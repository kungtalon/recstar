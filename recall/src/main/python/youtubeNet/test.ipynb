{
 "metadata": {
  "language_info": {
   "codemirror_mode": {
    "name": "ipython",
    "version": 3
   },
   "file_extension": ".py",
   "mimetype": "text/x-python",
   "name": "python",
   "nbconvert_exporter": "python",
   "pygments_lexer": "ipython3",
   "version": "3.7.3-final"
  },
  "orig_nbformat": 2,
  "kernelspec": {
   "name": "Python 3.7.3 64-bit",
   "display_name": "Python 3.7.3 64-bit",
   "metadata": {
    "interpreter": {
     "hash": "31f2aee4e71d21fbe5cf8b01ff0e069b9275f58929596ceb00d14d90e3e16cd6"
    }
   }
  }
 },
 "nbformat": 4,
 "nbformat_minor": 2,
 "cells": [
  {
   "cell_type": "code",
   "execution_count": 1,
   "metadata": {},
   "outputs": [
    {
     "output_type": "stream",
     "name": "stderr",
     "text": [
      "Using TensorFlow backend.\n"
     ]
    }
   ],
   "source": [
    "import sys\n",
    "import os\n",
    "sys.path.append('.')\n",
    "\n",
    "import numpy as np\n",
    "import pandas as pd\n",
    "import pickle as pkl\n",
    "from os.path import exists\n",
    "from data_loader.loader import load_tables, DataLoader"
   ]
  },
  {
   "cell_type": "code",
   "execution_count": 2,
   "metadata": {},
   "outputs": [],
   "source": [
    "tables = load_tables('prior')"
   ]
  },
  {
   "cell_type": "code",
   "execution_count": 3,
   "metadata": {},
   "outputs": [
    {
     "output_type": "execute_result",
     "data": {
      "text/plain": [
       "array([ 0,  1,  2,  3,  4,  5,  6,  7,  8,  9, 10, 11, 12, 13, 14, 15, 16,\n",
       "       17, 18, 19, 20, 21, 22, 23])"
      ]
     },
     "metadata": {},
     "execution_count": 3
    }
   ],
   "source": [
    "np.unique(tables['orders']['order_hour_of_day'])"
   ]
  },
  {
   "cell_type": "code",
   "execution_count": 4,
   "metadata": {},
   "outputs": [
    {
     "output_type": "error",
     "ename": "KeyboardInterrupt",
     "evalue": "",
     "traceback": [
      "\u001b[0;31m---------------------------------------------------------------------------\u001b[0m",
      "\u001b[0;31mKeyboardInterrupt\u001b[0m                         Traceback (most recent call last)",
      "\u001b[0;32m<ipython-input-4-47476a54a42e>\u001b[0m in \u001b[0;36m<module>\u001b[0;34m\u001b[0m\n\u001b[0;32m----> 1\u001b[0;31m \u001b[0morder_items\u001b[0m \u001b[0;34m=\u001b[0m \u001b[0mtables\u001b[0m\u001b[0;34m[\u001b[0m\u001b[0;34m'prior'\u001b[0m\u001b[0;34m]\u001b[0m\u001b[0;34m.\u001b[0m\u001b[0mgroupby\u001b[0m\u001b[0;34m(\u001b[0m\u001b[0;34m'order_id'\u001b[0m\u001b[0;34m)\u001b[0m\u001b[0;34m[\u001b[0m\u001b[0;34m'product_id'\u001b[0m\u001b[0;34m]\u001b[0m\u001b[0;34m.\u001b[0m\u001b[0mapply\u001b[0m\u001b[0;34m(\u001b[0m\u001b[0;32mlambda\u001b[0m \u001b[0mx\u001b[0m \u001b[0;34m:\u001b[0m \u001b[0mnp\u001b[0m\u001b[0;34m.\u001b[0m\u001b[0marray\u001b[0m\u001b[0;34m(\u001b[0m\u001b[0mx\u001b[0m\u001b[0;34m)\u001b[0m\u001b[0;34m)\u001b[0m\u001b[0;34m\u001b[0m\u001b[0;34m\u001b[0m\u001b[0m\n\u001b[0m",
      "\u001b[0;32m~/Library/Python/3.7/lib/python/site-packages/pandas/core/groupby/generic.py\u001b[0m in \u001b[0;36mapply\u001b[0;34m(self, func, *args, **kwargs)\u001b[0m\n\u001b[1;32m    224\u001b[0m     )\n\u001b[1;32m    225\u001b[0m     \u001b[0;32mdef\u001b[0m \u001b[0mapply\u001b[0m\u001b[0;34m(\u001b[0m\u001b[0mself\u001b[0m\u001b[0;34m,\u001b[0m \u001b[0mfunc\u001b[0m\u001b[0;34m,\u001b[0m \u001b[0;34m*\u001b[0m\u001b[0margs\u001b[0m\u001b[0;34m,\u001b[0m \u001b[0;34m**\u001b[0m\u001b[0mkwargs\u001b[0m\u001b[0;34m)\u001b[0m\u001b[0;34m:\u001b[0m\u001b[0;34m\u001b[0m\u001b[0;34m\u001b[0m\u001b[0m\n\u001b[0;32m--> 226\u001b[0;31m         \u001b[0;32mreturn\u001b[0m \u001b[0msuper\u001b[0m\u001b[0;34m(\u001b[0m\u001b[0;34m)\u001b[0m\u001b[0;34m.\u001b[0m\u001b[0mapply\u001b[0m\u001b[0;34m(\u001b[0m\u001b[0mfunc\u001b[0m\u001b[0;34m,\u001b[0m \u001b[0;34m*\u001b[0m\u001b[0margs\u001b[0m\u001b[0;34m,\u001b[0m \u001b[0;34m**\u001b[0m\u001b[0mkwargs\u001b[0m\u001b[0;34m)\u001b[0m\u001b[0;34m\u001b[0m\u001b[0;34m\u001b[0m\u001b[0m\n\u001b[0m\u001b[1;32m    227\u001b[0m \u001b[0;34m\u001b[0m\u001b[0m\n\u001b[1;32m    228\u001b[0m     @doc(\n",
      "\u001b[0;32m~/Library/Python/3.7/lib/python/site-packages/pandas/core/groupby/groupby.py\u001b[0m in \u001b[0;36mapply\u001b[0;34m(self, func, *args, **kwargs)\u001b[0m\n\u001b[1;32m    857\u001b[0m         \u001b[0;32mwith\u001b[0m \u001b[0moption_context\u001b[0m\u001b[0;34m(\u001b[0m\u001b[0;34m\"mode.chained_assignment\"\u001b[0m\u001b[0;34m,\u001b[0m \u001b[0;32mNone\u001b[0m\u001b[0;34m)\u001b[0m\u001b[0;34m:\u001b[0m\u001b[0;34m\u001b[0m\u001b[0;34m\u001b[0m\u001b[0m\n\u001b[1;32m    858\u001b[0m             \u001b[0;32mtry\u001b[0m\u001b[0;34m:\u001b[0m\u001b[0;34m\u001b[0m\u001b[0;34m\u001b[0m\u001b[0m\n\u001b[0;32m--> 859\u001b[0;31m                 \u001b[0mresult\u001b[0m \u001b[0;34m=\u001b[0m \u001b[0mself\u001b[0m\u001b[0;34m.\u001b[0m\u001b[0m_python_apply_general\u001b[0m\u001b[0;34m(\u001b[0m\u001b[0mf\u001b[0m\u001b[0;34m,\u001b[0m \u001b[0mself\u001b[0m\u001b[0;34m.\u001b[0m\u001b[0m_selected_obj\u001b[0m\u001b[0;34m)\u001b[0m\u001b[0;34m\u001b[0m\u001b[0;34m\u001b[0m\u001b[0m\n\u001b[0m\u001b[1;32m    860\u001b[0m             \u001b[0;32mexcept\u001b[0m \u001b[0mTypeError\u001b[0m\u001b[0;34m:\u001b[0m\u001b[0;34m\u001b[0m\u001b[0;34m\u001b[0m\u001b[0m\n\u001b[1;32m    861\u001b[0m                 \u001b[0;31m# gh-20949\u001b[0m\u001b[0;34m\u001b[0m\u001b[0;34m\u001b[0m\u001b[0;34m\u001b[0m\u001b[0m\n",
      "\u001b[0;32m~/Library/Python/3.7/lib/python/site-packages/pandas/core/groupby/groupby.py\u001b[0m in \u001b[0;36m_python_apply_general\u001b[0;34m(self, f, data)\u001b[0m\n\u001b[1;32m    890\u001b[0m             \u001b[0mdata\u001b[0m \u001b[0mafter\u001b[0m \u001b[0mapplying\u001b[0m \u001b[0mf\u001b[0m\u001b[0;34m\u001b[0m\u001b[0;34m\u001b[0m\u001b[0m\n\u001b[1;32m    891\u001b[0m         \"\"\"\n\u001b[0;32m--> 892\u001b[0;31m         \u001b[0mkeys\u001b[0m\u001b[0;34m,\u001b[0m \u001b[0mvalues\u001b[0m\u001b[0;34m,\u001b[0m \u001b[0mmutated\u001b[0m \u001b[0;34m=\u001b[0m \u001b[0mself\u001b[0m\u001b[0;34m.\u001b[0m\u001b[0mgrouper\u001b[0m\u001b[0;34m.\u001b[0m\u001b[0mapply\u001b[0m\u001b[0;34m(\u001b[0m\u001b[0mf\u001b[0m\u001b[0;34m,\u001b[0m \u001b[0mdata\u001b[0m\u001b[0;34m,\u001b[0m \u001b[0mself\u001b[0m\u001b[0;34m.\u001b[0m\u001b[0maxis\u001b[0m\u001b[0;34m)\u001b[0m\u001b[0;34m\u001b[0m\u001b[0;34m\u001b[0m\u001b[0m\n\u001b[0m\u001b[1;32m    893\u001b[0m \u001b[0;34m\u001b[0m\u001b[0m\n\u001b[1;32m    894\u001b[0m         return self._wrap_applied_output(\n",
      "\u001b[0;32m~/Library/Python/3.7/lib/python/site-packages/pandas/core/groupby/ops.py\u001b[0m in \u001b[0;36mapply\u001b[0;34m(self, f, data, axis)\u001b[0m\n\u001b[1;32m    193\u001b[0m                     \u001b[0;32mreturn\u001b[0m \u001b[0mgroup_keys\u001b[0m\u001b[0;34m,\u001b[0m \u001b[0mresult_values\u001b[0m\u001b[0;34m,\u001b[0m \u001b[0mmutated\u001b[0m\u001b[0;34m\u001b[0m\u001b[0;34m\u001b[0m\u001b[0m\n\u001b[1;32m    194\u001b[0m \u001b[0;34m\u001b[0m\u001b[0m\n\u001b[0;32m--> 195\u001b[0;31m         \u001b[0;32mfor\u001b[0m \u001b[0mkey\u001b[0m\u001b[0;34m,\u001b[0m \u001b[0;34m(\u001b[0m\u001b[0mi\u001b[0m\u001b[0;34m,\u001b[0m \u001b[0mgroup\u001b[0m\u001b[0;34m)\u001b[0m \u001b[0;32min\u001b[0m \u001b[0mzip\u001b[0m\u001b[0;34m(\u001b[0m\u001b[0mgroup_keys\u001b[0m\u001b[0;34m,\u001b[0m \u001b[0msplitter\u001b[0m\u001b[0;34m)\u001b[0m\u001b[0;34m:\u001b[0m\u001b[0;34m\u001b[0m\u001b[0;34m\u001b[0m\u001b[0m\n\u001b[0m\u001b[1;32m    196\u001b[0m             \u001b[0mobject\u001b[0m\u001b[0;34m.\u001b[0m\u001b[0m__setattr__\u001b[0m\u001b[0;34m(\u001b[0m\u001b[0mgroup\u001b[0m\u001b[0;34m,\u001b[0m \u001b[0;34m\"name\"\u001b[0m\u001b[0;34m,\u001b[0m \u001b[0mkey\u001b[0m\u001b[0;34m)\u001b[0m\u001b[0;34m\u001b[0m\u001b[0;34m\u001b[0m\u001b[0m\n\u001b[1;32m    197\u001b[0m \u001b[0;34m\u001b[0m\u001b[0m\n",
      "\u001b[0;32m~/Library/Python/3.7/lib/python/site-packages/pandas/core/groupby/ops.py\u001b[0m in \u001b[0;36m__iter__\u001b[0;34m(self)\u001b[0m\n\u001b[1;32m    943\u001b[0m \u001b[0;34m\u001b[0m\u001b[0m\n\u001b[1;32m    944\u001b[0m         \u001b[0;32mfor\u001b[0m \u001b[0mi\u001b[0m\u001b[0;34m,\u001b[0m \u001b[0;34m(\u001b[0m\u001b[0mstart\u001b[0m\u001b[0;34m,\u001b[0m \u001b[0mend\u001b[0m\u001b[0;34m)\u001b[0m \u001b[0;32min\u001b[0m \u001b[0menumerate\u001b[0m\u001b[0;34m(\u001b[0m\u001b[0mzip\u001b[0m\u001b[0;34m(\u001b[0m\u001b[0mstarts\u001b[0m\u001b[0;34m,\u001b[0m \u001b[0mends\u001b[0m\u001b[0;34m)\u001b[0m\u001b[0;34m)\u001b[0m\u001b[0;34m:\u001b[0m\u001b[0;34m\u001b[0m\u001b[0;34m\u001b[0m\u001b[0m\n\u001b[0;32m--> 945\u001b[0;31m             \u001b[0;32myield\u001b[0m \u001b[0mi\u001b[0m\u001b[0;34m,\u001b[0m \u001b[0mself\u001b[0m\u001b[0;34m.\u001b[0m\u001b[0m_chop\u001b[0m\u001b[0;34m(\u001b[0m\u001b[0msdata\u001b[0m\u001b[0;34m,\u001b[0m \u001b[0mslice\u001b[0m\u001b[0;34m(\u001b[0m\u001b[0mstart\u001b[0m\u001b[0;34m,\u001b[0m \u001b[0mend\u001b[0m\u001b[0;34m)\u001b[0m\u001b[0;34m)\u001b[0m\u001b[0;34m\u001b[0m\u001b[0;34m\u001b[0m\u001b[0m\n\u001b[0m\u001b[1;32m    946\u001b[0m \u001b[0;34m\u001b[0m\u001b[0m\n\u001b[1;32m    947\u001b[0m     \u001b[0;32mdef\u001b[0m \u001b[0m_get_sorted_data\u001b[0m\u001b[0;34m(\u001b[0m\u001b[0mself\u001b[0m\u001b[0;34m)\u001b[0m \u001b[0;34m->\u001b[0m \u001b[0mFrameOrSeries\u001b[0m\u001b[0;34m:\u001b[0m\u001b[0;34m\u001b[0m\u001b[0;34m\u001b[0m\u001b[0m\n",
      "\u001b[0;32m~/Library/Python/3.7/lib/python/site-packages/pandas/core/groupby/ops.py\u001b[0m in \u001b[0;36m_chop\u001b[0;34m(self, sdata, slice_obj)\u001b[0m\n\u001b[1;32m    955\u001b[0m     \u001b[0;32mdef\u001b[0m \u001b[0m_chop\u001b[0m\u001b[0;34m(\u001b[0m\u001b[0mself\u001b[0m\u001b[0;34m,\u001b[0m \u001b[0msdata\u001b[0m\u001b[0;34m:\u001b[0m \u001b[0mSeries\u001b[0m\u001b[0;34m,\u001b[0m \u001b[0mslice_obj\u001b[0m\u001b[0;34m:\u001b[0m \u001b[0mslice\u001b[0m\u001b[0;34m)\u001b[0m \u001b[0;34m->\u001b[0m \u001b[0mSeries\u001b[0m\u001b[0;34m:\u001b[0m\u001b[0;34m\u001b[0m\u001b[0;34m\u001b[0m\u001b[0m\n\u001b[1;32m    956\u001b[0m         \u001b[0;31m# fastpath equivalent to `sdata.iloc[slice_obj]`\u001b[0m\u001b[0;34m\u001b[0m\u001b[0;34m\u001b[0m\u001b[0;34m\u001b[0m\u001b[0m\n\u001b[0;32m--> 957\u001b[0;31m         \u001b[0mmgr\u001b[0m \u001b[0;34m=\u001b[0m \u001b[0msdata\u001b[0m\u001b[0;34m.\u001b[0m\u001b[0m_mgr\u001b[0m\u001b[0;34m.\u001b[0m\u001b[0mget_slice\u001b[0m\u001b[0;34m(\u001b[0m\u001b[0mslice_obj\u001b[0m\u001b[0;34m)\u001b[0m\u001b[0;34m\u001b[0m\u001b[0;34m\u001b[0m\u001b[0m\n\u001b[0m\u001b[1;32m    958\u001b[0m         \u001b[0;32mreturn\u001b[0m \u001b[0mtype\u001b[0m\u001b[0;34m(\u001b[0m\u001b[0msdata\u001b[0m\u001b[0;34m)\u001b[0m\u001b[0;34m(\u001b[0m\u001b[0mmgr\u001b[0m\u001b[0;34m,\u001b[0m \u001b[0mname\u001b[0m\u001b[0;34m=\u001b[0m\u001b[0msdata\u001b[0m\u001b[0;34m.\u001b[0m\u001b[0mname\u001b[0m\u001b[0;34m,\u001b[0m \u001b[0mfastpath\u001b[0m\u001b[0;34m=\u001b[0m\u001b[0;32mTrue\u001b[0m\u001b[0;34m)\u001b[0m\u001b[0;34m\u001b[0m\u001b[0;34m\u001b[0m\u001b[0m\n\u001b[1;32m    959\u001b[0m \u001b[0;34m\u001b[0m\u001b[0m\n",
      "\u001b[0;32m~/Library/Python/3.7/lib/python/site-packages/pandas/core/internals/managers.py\u001b[0m in \u001b[0;36mget_slice\u001b[0;34m(self, slobj, axis)\u001b[0m\n\u001b[1;32m   1592\u001b[0m \u001b[0;34m\u001b[0m\u001b[0m\n\u001b[1;32m   1593\u001b[0m         \u001b[0mblk\u001b[0m \u001b[0;34m=\u001b[0m \u001b[0mself\u001b[0m\u001b[0;34m.\u001b[0m\u001b[0m_block\u001b[0m\u001b[0;34m\u001b[0m\u001b[0;34m\u001b[0m\u001b[0m\n\u001b[0;32m-> 1594\u001b[0;31m         \u001b[0marray\u001b[0m \u001b[0;34m=\u001b[0m \u001b[0mblk\u001b[0m\u001b[0;34m.\u001b[0m\u001b[0m_slice\u001b[0m\u001b[0;34m(\u001b[0m\u001b[0mslobj\u001b[0m\u001b[0;34m)\u001b[0m\u001b[0;34m\u001b[0m\u001b[0;34m\u001b[0m\u001b[0m\n\u001b[0m\u001b[1;32m   1595\u001b[0m         \u001b[0mblock\u001b[0m \u001b[0;34m=\u001b[0m \u001b[0mblk\u001b[0m\u001b[0;34m.\u001b[0m\u001b[0mmake_block_same_class\u001b[0m\u001b[0;34m(\u001b[0m\u001b[0marray\u001b[0m\u001b[0;34m,\u001b[0m \u001b[0mplacement\u001b[0m\u001b[0;34m=\u001b[0m\u001b[0mslice\u001b[0m\u001b[0;34m(\u001b[0m\u001b[0;36m0\u001b[0m\u001b[0;34m,\u001b[0m \u001b[0mlen\u001b[0m\u001b[0;34m(\u001b[0m\u001b[0marray\u001b[0m\u001b[0;34m)\u001b[0m\u001b[0;34m)\u001b[0m\u001b[0;34m)\u001b[0m\u001b[0;34m\u001b[0m\u001b[0;34m\u001b[0m\u001b[0m\n\u001b[1;32m   1596\u001b[0m         \u001b[0;32mreturn\u001b[0m \u001b[0mtype\u001b[0m\u001b[0;34m(\u001b[0m\u001b[0mself\u001b[0m\u001b[0;34m)\u001b[0m\u001b[0;34m(\u001b[0m\u001b[0mblock\u001b[0m\u001b[0;34m,\u001b[0m \u001b[0mself\u001b[0m\u001b[0;34m.\u001b[0m\u001b[0mindex\u001b[0m\u001b[0;34m[\u001b[0m\u001b[0mslobj\u001b[0m\u001b[0;34m]\u001b[0m\u001b[0;34m)\u001b[0m\u001b[0;34m\u001b[0m\u001b[0;34m\u001b[0m\u001b[0m\n",
      "\u001b[0;32m~/Library/Python/3.7/lib/python/site-packages/pandas/core/internals/blocks.py\u001b[0m in \u001b[0;36m_slice\u001b[0;34m(self, slicer)\u001b[0m\n\u001b[1;32m    287\u001b[0m         \u001b[0;34m\"\"\" return a slice of my values \"\"\"\u001b[0m\u001b[0;34m\u001b[0m\u001b[0;34m\u001b[0m\u001b[0m\n\u001b[1;32m    288\u001b[0m \u001b[0;34m\u001b[0m\u001b[0m\n\u001b[0;32m--> 289\u001b[0;31m         \u001b[0;32mreturn\u001b[0m \u001b[0mself\u001b[0m\u001b[0;34m.\u001b[0m\u001b[0mvalues\u001b[0m\u001b[0;34m[\u001b[0m\u001b[0mslicer\u001b[0m\u001b[0;34m]\u001b[0m\u001b[0;34m\u001b[0m\u001b[0;34m\u001b[0m\u001b[0m\n\u001b[0m\u001b[1;32m    290\u001b[0m \u001b[0;34m\u001b[0m\u001b[0m\n\u001b[1;32m    291\u001b[0m     \u001b[0;32mdef\u001b[0m \u001b[0mgetitem_block\u001b[0m\u001b[0;34m(\u001b[0m\u001b[0mself\u001b[0m\u001b[0;34m,\u001b[0m \u001b[0mslicer\u001b[0m\u001b[0;34m,\u001b[0m \u001b[0mnew_mgr_locs\u001b[0m\u001b[0;34m=\u001b[0m\u001b[0;32mNone\u001b[0m\u001b[0;34m)\u001b[0m\u001b[0;34m:\u001b[0m\u001b[0;34m\u001b[0m\u001b[0;34m\u001b[0m\u001b[0m\n",
      "\u001b[0;31mKeyboardInterrupt\u001b[0m: "
     ]
    }
   ],
   "source": [
    "order_items = tables['prior'].groupby('order_id')['product_id'].apply(lambda x : np.array(x))"
   ]
  },
  {
   "cell_type": "code",
   "execution_count": 5,
   "metadata": {},
   "outputs": [
    {
     "output_type": "execute_result",
     "data": {
      "text/plain": [
       "order_id\n",
       "2          [33120, 28985, 9327, 45918, 30035, 17794, 4014...\n",
       "3          [33754, 24838, 17704, 21903, 17668, 46667, 174...\n",
       "4          [46842, 26434, 39758, 27761, 10054, 21351, 225...\n",
       "5          [13176, 15005, 47329, 27966, 23909, 48370, 132...\n",
       "6                                      [40462, 15873, 41897]\n",
       "                                 ...                        \n",
       "3421079                                              [30136]\n",
       "3421080    [27845, 4932, 18811, 41950, 31717, 12935, 2512...\n",
       "3421081     [38185, 12218, 32299, 3060, 20539, 35221, 12861]\n",
       "3421082    [17279, 12738, 16797, 43352, 32700, 12023, 47941]\n",
       "3421083    [7854, 45309, 21162, 18176, 35211, 39678, 1135...\n",
       "Name: product_id, Length: 3214874, dtype: object"
      ]
     },
     "metadata": {},
     "execution_count": 5
    }
   ],
   "source": [
    "order_items"
   ]
  },
  {
   "cell_type": "code",
   "execution_count": 6,
   "metadata": {},
   "outputs": [
    {
     "output_type": "execute_result",
     "data": {
      "text/plain": [
       "array([33120, 28985,  9327, 45918, 30035, 17794, 40141,  1819, 43668])"
      ]
     },
     "metadata": {},
     "execution_count": 6
    }
   ],
   "source": [
    "order_items.iloc[0]"
   ]
  },
  {
   "cell_type": "code",
   "execution_count": 7,
   "metadata": {},
   "outputs": [],
   "source": [
    "origin_data = tables['orders']\n",
    "orders0 = pd.DataFrame({'last_order_id': origin_data['order_id'],\n",
    "                        'user_id': origin_data['user_id'],\n",
    "                        'order_number': origin_data['order_number'] + 1})"
   ]
  },
  {
   "cell_type": "code",
   "execution_count": 8,
   "metadata": {},
   "outputs": [
    {
     "output_type": "execute_result",
     "data": {
      "text/plain": [
       "         last_order_id  user_id  order_number\n",
       "0              2539329        1             2\n",
       "1              2398795        1             3\n",
       "2               473747        1             4\n",
       "3              2254736        1             5\n",
       "4               431534        1             6\n",
       "...                ...      ...           ...\n",
       "3421077        2558525   206209            10\n",
       "3421078        2266710   206209            11\n",
       "3421079        1854736   206209            12\n",
       "3421080         626363   206209            13\n",
       "3421081        2977660   206209            14\n",
       "\n",
       "[3214874 rows x 3 columns]"
      ],
      "text/html": "<div>\n<style scoped>\n    .dataframe tbody tr th:only-of-type {\n        vertical-align: middle;\n    }\n\n    .dataframe tbody tr th {\n        vertical-align: top;\n    }\n\n    .dataframe thead th {\n        text-align: right;\n    }\n</style>\n<table border=\"1\" class=\"dataframe\">\n  <thead>\n    <tr style=\"text-align: right;\">\n      <th></th>\n      <th>last_order_id</th>\n      <th>user_id</th>\n      <th>order_number</th>\n    </tr>\n  </thead>\n  <tbody>\n    <tr>\n      <th>0</th>\n      <td>2539329</td>\n      <td>1</td>\n      <td>2</td>\n    </tr>\n    <tr>\n      <th>1</th>\n      <td>2398795</td>\n      <td>1</td>\n      <td>3</td>\n    </tr>\n    <tr>\n      <th>2</th>\n      <td>473747</td>\n      <td>1</td>\n      <td>4</td>\n    </tr>\n    <tr>\n      <th>3</th>\n      <td>2254736</td>\n      <td>1</td>\n      <td>5</td>\n    </tr>\n    <tr>\n      <th>4</th>\n      <td>431534</td>\n      <td>1</td>\n      <td>6</td>\n    </tr>\n    <tr>\n      <th>...</th>\n      <td>...</td>\n      <td>...</td>\n      <td>...</td>\n    </tr>\n    <tr>\n      <th>3421077</th>\n      <td>2558525</td>\n      <td>206209</td>\n      <td>10</td>\n    </tr>\n    <tr>\n      <th>3421078</th>\n      <td>2266710</td>\n      <td>206209</td>\n      <td>11</td>\n    </tr>\n    <tr>\n      <th>3421079</th>\n      <td>1854736</td>\n      <td>206209</td>\n      <td>12</td>\n    </tr>\n    <tr>\n      <th>3421080</th>\n      <td>626363</td>\n      <td>206209</td>\n      <td>13</td>\n    </tr>\n    <tr>\n      <th>3421081</th>\n      <td>2977660</td>\n      <td>206209</td>\n      <td>14</td>\n    </tr>\n  </tbody>\n</table>\n<p>3214874 rows × 3 columns</p>\n</div>"
     },
     "metadata": {},
     "execution_count": 8
    }
   ],
   "source": [
    "orders0"
   ]
  },
  {
   "cell_type": "code",
   "execution_count": 9,
   "metadata": {},
   "outputs": [],
   "source": [
    "origin_data2 = origin_data.merge(orders0,\\\n",
    "             left_on=['order_number', 'user_id'], right_on=['order_number', 'user_id'], how='left')"
   ]
  },
  {
   "cell_type": "code",
   "execution_count": 10,
   "metadata": {},
   "outputs": [
    {
     "output_type": "execute_result",
     "data": {
      "text/plain": [
       "         order_id  user_id  order_number  order_dow  order_hour_of_day  \\\n",
       "0         2539329        1             1          2                  8   \n",
       "1         2398795        1             2          3                  7   \n",
       "2          473747        1             3          3                 12   \n",
       "3         2254736        1             4          4                  7   \n",
       "4          431534        1             5          4                 15   \n",
       "...           ...      ...           ...        ...                ...   \n",
       "3214869   2558525   206209             9          4                 15   \n",
       "3214870   2266710   206209            10          5                 18   \n",
       "3214871   1854736   206209            11          4                 10   \n",
       "3214872    626363   206209            12          1                 12   \n",
       "3214873   2977660   206209            13          1                 12   \n",
       "\n",
       "         days_since_prior_order  last_order_id  \n",
       "0                           NaN            NaN  \n",
       "1                          15.0      2539329.0  \n",
       "2                          21.0      2398795.0  \n",
       "3                          29.0       473747.0  \n",
       "4                          28.0      2254736.0  \n",
       "...                         ...            ...  \n",
       "3214869                    22.0      2129269.0  \n",
       "3214870                    29.0      2558525.0  \n",
       "3214871                    30.0      2266710.0  \n",
       "3214872                    18.0      1854736.0  \n",
       "3214873                     7.0       626363.0  \n",
       "\n",
       "[3214874 rows x 7 columns]"
      ],
      "text/html": "<div>\n<style scoped>\n    .dataframe tbody tr th:only-of-type {\n        vertical-align: middle;\n    }\n\n    .dataframe tbody tr th {\n        vertical-align: top;\n    }\n\n    .dataframe thead th {\n        text-align: right;\n    }\n</style>\n<table border=\"1\" class=\"dataframe\">\n  <thead>\n    <tr style=\"text-align: right;\">\n      <th></th>\n      <th>order_id</th>\n      <th>user_id</th>\n      <th>order_number</th>\n      <th>order_dow</th>\n      <th>order_hour_of_day</th>\n      <th>days_since_prior_order</th>\n      <th>last_order_id</th>\n    </tr>\n  </thead>\n  <tbody>\n    <tr>\n      <th>0</th>\n      <td>2539329</td>\n      <td>1</td>\n      <td>1</td>\n      <td>2</td>\n      <td>8</td>\n      <td>NaN</td>\n      <td>NaN</td>\n    </tr>\n    <tr>\n      <th>1</th>\n      <td>2398795</td>\n      <td>1</td>\n      <td>2</td>\n      <td>3</td>\n      <td>7</td>\n      <td>15.0</td>\n      <td>2539329.0</td>\n    </tr>\n    <tr>\n      <th>2</th>\n      <td>473747</td>\n      <td>1</td>\n      <td>3</td>\n      <td>3</td>\n      <td>12</td>\n      <td>21.0</td>\n      <td>2398795.0</td>\n    </tr>\n    <tr>\n      <th>3</th>\n      <td>2254736</td>\n      <td>1</td>\n      <td>4</td>\n      <td>4</td>\n      <td>7</td>\n      <td>29.0</td>\n      <td>473747.0</td>\n    </tr>\n    <tr>\n      <th>4</th>\n      <td>431534</td>\n      <td>1</td>\n      <td>5</td>\n      <td>4</td>\n      <td>15</td>\n      <td>28.0</td>\n      <td>2254736.0</td>\n    </tr>\n    <tr>\n      <th>...</th>\n      <td>...</td>\n      <td>...</td>\n      <td>...</td>\n      <td>...</td>\n      <td>...</td>\n      <td>...</td>\n      <td>...</td>\n    </tr>\n    <tr>\n      <th>3214869</th>\n      <td>2558525</td>\n      <td>206209</td>\n      <td>9</td>\n      <td>4</td>\n      <td>15</td>\n      <td>22.0</td>\n      <td>2129269.0</td>\n    </tr>\n    <tr>\n      <th>3214870</th>\n      <td>2266710</td>\n      <td>206209</td>\n      <td>10</td>\n      <td>5</td>\n      <td>18</td>\n      <td>29.0</td>\n      <td>2558525.0</td>\n    </tr>\n    <tr>\n      <th>3214871</th>\n      <td>1854736</td>\n      <td>206209</td>\n      <td>11</td>\n      <td>4</td>\n      <td>10</td>\n      <td>30.0</td>\n      <td>2266710.0</td>\n    </tr>\n    <tr>\n      <th>3214872</th>\n      <td>626363</td>\n      <td>206209</td>\n      <td>12</td>\n      <td>1</td>\n      <td>12</td>\n      <td>18.0</td>\n      <td>1854736.0</td>\n    </tr>\n    <tr>\n      <th>3214873</th>\n      <td>2977660</td>\n      <td>206209</td>\n      <td>13</td>\n      <td>1</td>\n      <td>12</td>\n      <td>7.0</td>\n      <td>626363.0</td>\n    </tr>\n  </tbody>\n</table>\n<p>3214874 rows × 7 columns</p>\n</div>"
     },
     "metadata": {},
     "execution_count": 10
    }
   ],
   "source": [
    "origin_data2"
   ]
  },
  {
   "cell_type": "code",
   "execution_count": 11,
   "metadata": {},
   "outputs": [
    {
     "output_type": "stream",
     "name": "stdout",
     "text": [
      "3008665\n3008665\n"
     ]
    }
   ],
   "source": [
    "print(len(origin_data2.dropna()))\n",
    "print(len(origin_data.dropna()))"
   ]
  },
  {
   "cell_type": "code",
   "execution_count": 12,
   "metadata": {},
   "outputs": [],
   "source": [
    "input_data = origin_data2.dropna().set_index('last_order_id').\\\n",
    "            join(order_items).rename(columns={'product_id': 'last_order_list'})"
   ]
  },
  {
   "cell_type": "code",
   "execution_count": 13,
   "metadata": {},
   "outputs": [
    {
     "output_type": "execute_result",
     "data": {
      "text/plain": [
       "               order_id  user_id  order_number  order_dow  order_hour_of_day  \\\n",
       "last_order_id                                                                  \n",
       "2539329.0       2398795        1             2          3                  7   \n",
       "2398795.0        473747        1             3          3                 12   \n",
       "473747.0        2254736        1             4          4                  7   \n",
       "2254736.0        431534        1             5          4                 15   \n",
       "431534.0        3367565        1             6          2                  7   \n",
       "...                 ...      ...           ...        ...                ...   \n",
       "2129269.0       2558525   206209             9          4                 15   \n",
       "2558525.0       2266710   206209            10          5                 18   \n",
       "2266710.0       1854736   206209            11          4                 10   \n",
       "1854736.0        626363   206209            12          1                 12   \n",
       "626363.0        2977660   206209            13          1                 12   \n",
       "\n",
       "               days_since_prior_order  \\\n",
       "last_order_id                           \n",
       "2539329.0                        15.0   \n",
       "2398795.0                        21.0   \n",
       "473747.0                         29.0   \n",
       "2254736.0                        28.0   \n",
       "431534.0                         19.0   \n",
       "...                               ...   \n",
       "2129269.0                        22.0   \n",
       "2558525.0                        29.0   \n",
       "2266710.0                        30.0   \n",
       "1854736.0                        18.0   \n",
       "626363.0                          7.0   \n",
       "\n",
       "                                                 last_order_list  \n",
       "last_order_id                                                     \n",
       "2539329.0                      [196, 14084, 12427, 26088, 26405]  \n",
       "2398795.0               [196, 10258, 12427, 13176, 26088, 13032]  \n",
       "473747.0                       [196, 12427, 10258, 25133, 30450]  \n",
       "2254736.0                      [196, 12427, 10258, 25133, 26405]  \n",
       "431534.0       [196, 12427, 10258, 25133, 10326, 17122, 41787...  \n",
       "...                                                          ...  \n",
       "2129269.0      [38167, 43961, 19348, 13176, 6846, 17500, 3605...  \n",
       "2558525.0                                   [38167, 23892, 6846]  \n",
       "2266710.0      [9405, 6846, 15700, 26503, 41213, 23800, 24852...  \n",
       "1854736.0      [6846, 9405, 41213, 24852, 19348, 15700, 40310...  \n",
       "626363.0       [6846, 24852, 9405, 19348, 41213, 15700, 38167...  \n",
       "\n",
       "[3008665 rows x 7 columns]"
      ],
      "text/html": "<div>\n<style scoped>\n    .dataframe tbody tr th:only-of-type {\n        vertical-align: middle;\n    }\n\n    .dataframe tbody tr th {\n        vertical-align: top;\n    }\n\n    .dataframe thead th {\n        text-align: right;\n    }\n</style>\n<table border=\"1\" class=\"dataframe\">\n  <thead>\n    <tr style=\"text-align: right;\">\n      <th></th>\n      <th>order_id</th>\n      <th>user_id</th>\n      <th>order_number</th>\n      <th>order_dow</th>\n      <th>order_hour_of_day</th>\n      <th>days_since_prior_order</th>\n      <th>last_order_list</th>\n    </tr>\n    <tr>\n      <th>last_order_id</th>\n      <th></th>\n      <th></th>\n      <th></th>\n      <th></th>\n      <th></th>\n      <th></th>\n      <th></th>\n    </tr>\n  </thead>\n  <tbody>\n    <tr>\n      <th>2539329.0</th>\n      <td>2398795</td>\n      <td>1</td>\n      <td>2</td>\n      <td>3</td>\n      <td>7</td>\n      <td>15.0</td>\n      <td>[196, 14084, 12427, 26088, 26405]</td>\n    </tr>\n    <tr>\n      <th>2398795.0</th>\n      <td>473747</td>\n      <td>1</td>\n      <td>3</td>\n      <td>3</td>\n      <td>12</td>\n      <td>21.0</td>\n      <td>[196, 10258, 12427, 13176, 26088, 13032]</td>\n    </tr>\n    <tr>\n      <th>473747.0</th>\n      <td>2254736</td>\n      <td>1</td>\n      <td>4</td>\n      <td>4</td>\n      <td>7</td>\n      <td>29.0</td>\n      <td>[196, 12427, 10258, 25133, 30450]</td>\n    </tr>\n    <tr>\n      <th>2254736.0</th>\n      <td>431534</td>\n      <td>1</td>\n      <td>5</td>\n      <td>4</td>\n      <td>15</td>\n      <td>28.0</td>\n      <td>[196, 12427, 10258, 25133, 26405]</td>\n    </tr>\n    <tr>\n      <th>431534.0</th>\n      <td>3367565</td>\n      <td>1</td>\n      <td>6</td>\n      <td>2</td>\n      <td>7</td>\n      <td>19.0</td>\n      <td>[196, 12427, 10258, 25133, 10326, 17122, 41787...</td>\n    </tr>\n    <tr>\n      <th>...</th>\n      <td>...</td>\n      <td>...</td>\n      <td>...</td>\n      <td>...</td>\n      <td>...</td>\n      <td>...</td>\n      <td>...</td>\n    </tr>\n    <tr>\n      <th>2129269.0</th>\n      <td>2558525</td>\n      <td>206209</td>\n      <td>9</td>\n      <td>4</td>\n      <td>15</td>\n      <td>22.0</td>\n      <td>[38167, 43961, 19348, 13176, 6846, 17500, 3605...</td>\n    </tr>\n    <tr>\n      <th>2558525.0</th>\n      <td>2266710</td>\n      <td>206209</td>\n      <td>10</td>\n      <td>5</td>\n      <td>18</td>\n      <td>29.0</td>\n      <td>[38167, 23892, 6846]</td>\n    </tr>\n    <tr>\n      <th>2266710.0</th>\n      <td>1854736</td>\n      <td>206209</td>\n      <td>11</td>\n      <td>4</td>\n      <td>10</td>\n      <td>30.0</td>\n      <td>[9405, 6846, 15700, 26503, 41213, 23800, 24852...</td>\n    </tr>\n    <tr>\n      <th>1854736.0</th>\n      <td>626363</td>\n      <td>206209</td>\n      <td>12</td>\n      <td>1</td>\n      <td>12</td>\n      <td>18.0</td>\n      <td>[6846, 9405, 41213, 24852, 19348, 15700, 40310...</td>\n    </tr>\n    <tr>\n      <th>626363.0</th>\n      <td>2977660</td>\n      <td>206209</td>\n      <td>13</td>\n      <td>1</td>\n      <td>12</td>\n      <td>7.0</td>\n      <td>[6846, 24852, 9405, 19348, 41213, 15700, 38167...</td>\n    </tr>\n  </tbody>\n</table>\n<p>3008665 rows × 7 columns</p>\n</div>"
     },
     "metadata": {},
     "execution_count": 13
    }
   ],
   "source": [
    "input_data"
   ]
  },
  {
   "cell_type": "code",
   "execution_count": 14,
   "metadata": {},
   "outputs": [],
   "source": [
    "input_data2 = input_data.set_index('order_id').join(order_items).rename(columns={'product_id': 'order_list'})"
   ]
  },
  {
   "cell_type": "code",
   "execution_count": 15,
   "metadata": {},
   "outputs": [
    {
     "output_type": "execute_result",
     "data": {
      "text/plain": [
       "          user_id  order_number  order_dow  order_hour_of_day  \\\n",
       "order_id                                                        \n",
       "2398795         1             2          3                  7   \n",
       "473747          1             3          3                 12   \n",
       "2254736         1             4          4                  7   \n",
       "431534          1             5          4                 15   \n",
       "3367565         1             6          2                  7   \n",
       "...           ...           ...        ...                ...   \n",
       "2558525    206209             9          4                 15   \n",
       "2266710    206209            10          5                 18   \n",
       "1854736    206209            11          4                 10   \n",
       "626363     206209            12          1                 12   \n",
       "2977660    206209            13          1                 12   \n",
       "\n",
       "          days_since_prior_order  \\\n",
       "order_id                           \n",
       "2398795                     15.0   \n",
       "473747                      21.0   \n",
       "2254736                     29.0   \n",
       "431534                      28.0   \n",
       "3367565                     19.0   \n",
       "...                          ...   \n",
       "2558525                     22.0   \n",
       "2266710                     29.0   \n",
       "1854736                     30.0   \n",
       "626363                      18.0   \n",
       "2977660                      7.0   \n",
       "\n",
       "                                            last_order_list  \\\n",
       "order_id                                                      \n",
       "2398795                   [196, 14084, 12427, 26088, 26405]   \n",
       "473747             [196, 10258, 12427, 13176, 26088, 13032]   \n",
       "2254736                   [196, 12427, 10258, 25133, 30450]   \n",
       "431534                    [196, 12427, 10258, 25133, 26405]   \n",
       "3367565   [196, 12427, 10258, 25133, 10326, 17122, 41787...   \n",
       "...                                                     ...   \n",
       "2558525   [38167, 43961, 19348, 13176, 6846, 17500, 3605...   \n",
       "2266710                                [38167, 23892, 6846]   \n",
       "1854736   [9405, 6846, 15700, 26503, 41213, 23800, 24852...   \n",
       "626363    [6846, 9405, 41213, 24852, 19348, 15700, 40310...   \n",
       "2977660   [6846, 24852, 9405, 19348, 41213, 15700, 38167...   \n",
       "\n",
       "                                                 order_list  \n",
       "order_id                                                     \n",
       "2398795            [196, 10258, 12427, 13176, 26088, 13032]  \n",
       "473747                    [196, 12427, 10258, 25133, 30450]  \n",
       "2254736                   [196, 12427, 10258, 25133, 26405]  \n",
       "431534    [196, 12427, 10258, 25133, 10326, 17122, 41787...  \n",
       "3367565                          [196, 12427, 10258, 25133]  \n",
       "...                                                     ...  \n",
       "2558525                                [38167, 23892, 6846]  \n",
       "2266710   [9405, 6846, 15700, 26503, 41213, 23800, 24852...  \n",
       "1854736   [6846, 9405, 41213, 24852, 19348, 15700, 40310...  \n",
       "626363    [6846, 24852, 9405, 19348, 41213, 15700, 38167...  \n",
       "2977660   [24852, 9405, 16168, 39216, 14197, 38730, 3147...  \n",
       "\n",
       "[3008665 rows x 7 columns]"
      ],
      "text/html": "<div>\n<style scoped>\n    .dataframe tbody tr th:only-of-type {\n        vertical-align: middle;\n    }\n\n    .dataframe tbody tr th {\n        vertical-align: top;\n    }\n\n    .dataframe thead th {\n        text-align: right;\n    }\n</style>\n<table border=\"1\" class=\"dataframe\">\n  <thead>\n    <tr style=\"text-align: right;\">\n      <th></th>\n      <th>user_id</th>\n      <th>order_number</th>\n      <th>order_dow</th>\n      <th>order_hour_of_day</th>\n      <th>days_since_prior_order</th>\n      <th>last_order_list</th>\n      <th>order_list</th>\n    </tr>\n    <tr>\n      <th>order_id</th>\n      <th></th>\n      <th></th>\n      <th></th>\n      <th></th>\n      <th></th>\n      <th></th>\n      <th></th>\n    </tr>\n  </thead>\n  <tbody>\n    <tr>\n      <th>2398795</th>\n      <td>1</td>\n      <td>2</td>\n      <td>3</td>\n      <td>7</td>\n      <td>15.0</td>\n      <td>[196, 14084, 12427, 26088, 26405]</td>\n      <td>[196, 10258, 12427, 13176, 26088, 13032]</td>\n    </tr>\n    <tr>\n      <th>473747</th>\n      <td>1</td>\n      <td>3</td>\n      <td>3</td>\n      <td>12</td>\n      <td>21.0</td>\n      <td>[196, 10258, 12427, 13176, 26088, 13032]</td>\n      <td>[196, 12427, 10258, 25133, 30450]</td>\n    </tr>\n    <tr>\n      <th>2254736</th>\n      <td>1</td>\n      <td>4</td>\n      <td>4</td>\n      <td>7</td>\n      <td>29.0</td>\n      <td>[196, 12427, 10258, 25133, 30450]</td>\n      <td>[196, 12427, 10258, 25133, 26405]</td>\n    </tr>\n    <tr>\n      <th>431534</th>\n      <td>1</td>\n      <td>5</td>\n      <td>4</td>\n      <td>15</td>\n      <td>28.0</td>\n      <td>[196, 12427, 10258, 25133, 26405]</td>\n      <td>[196, 12427, 10258, 25133, 10326, 17122, 41787...</td>\n    </tr>\n    <tr>\n      <th>3367565</th>\n      <td>1</td>\n      <td>6</td>\n      <td>2</td>\n      <td>7</td>\n      <td>19.0</td>\n      <td>[196, 12427, 10258, 25133, 10326, 17122, 41787...</td>\n      <td>[196, 12427, 10258, 25133]</td>\n    </tr>\n    <tr>\n      <th>...</th>\n      <td>...</td>\n      <td>...</td>\n      <td>...</td>\n      <td>...</td>\n      <td>...</td>\n      <td>...</td>\n      <td>...</td>\n    </tr>\n    <tr>\n      <th>2558525</th>\n      <td>206209</td>\n      <td>9</td>\n      <td>4</td>\n      <td>15</td>\n      <td>22.0</td>\n      <td>[38167, 43961, 19348, 13176, 6846, 17500, 3605...</td>\n      <td>[38167, 23892, 6846]</td>\n    </tr>\n    <tr>\n      <th>2266710</th>\n      <td>206209</td>\n      <td>10</td>\n      <td>5</td>\n      <td>18</td>\n      <td>29.0</td>\n      <td>[38167, 23892, 6846]</td>\n      <td>[9405, 6846, 15700, 26503, 41213, 23800, 24852...</td>\n    </tr>\n    <tr>\n      <th>1854736</th>\n      <td>206209</td>\n      <td>11</td>\n      <td>4</td>\n      <td>10</td>\n      <td>30.0</td>\n      <td>[9405, 6846, 15700, 26503, 41213, 23800, 24852...</td>\n      <td>[6846, 9405, 41213, 24852, 19348, 15700, 40310...</td>\n    </tr>\n    <tr>\n      <th>626363</th>\n      <td>206209</td>\n      <td>12</td>\n      <td>1</td>\n      <td>12</td>\n      <td>18.0</td>\n      <td>[6846, 9405, 41213, 24852, 19348, 15700, 40310...</td>\n      <td>[6846, 24852, 9405, 19348, 41213, 15700, 38167...</td>\n    </tr>\n    <tr>\n      <th>2977660</th>\n      <td>206209</td>\n      <td>13</td>\n      <td>1</td>\n      <td>12</td>\n      <td>7.0</td>\n      <td>[6846, 24852, 9405, 19348, 41213, 15700, 38167...</td>\n      <td>[24852, 9405, 16168, 39216, 14197, 38730, 3147...</td>\n    </tr>\n  </tbody>\n</table>\n<p>3008665 rows × 7 columns</p>\n</div>"
     },
     "metadata": {},
     "execution_count": 15
    }
   ],
   "source": [
    "input_data2"
   ]
  },
  {
   "cell_type": "code",
   "execution_count": 21,
   "metadata": {},
   "outputs": [],
   "source": [
    "new_col = input_data2['last_order_list'].map(lambda x : len(x))"
   ]
  },
  {
   "cell_type": "code",
   "execution_count": 42,
   "metadata": {},
   "outputs": [
    {
     "output_type": "execute_result",
     "data": {
      "text/plain": [
       "145"
      ]
     },
     "metadata": {},
     "execution_count": 42
    }
   ],
   "source": [
    "new_col2 = input_data['last_order_list'].map(lambda x : len(x))\n",
    "new_col2.max()"
   ]
  },
  {
   "cell_type": "code",
   "execution_count": 35,
   "metadata": {},
   "outputs": [],
   "source": [
    "def transform(order_list):\n",
    "    y = np.zeros(49688)\n",
    "    y[order_list] = 1\n",
    "    return y\n",
    "\n",
    "slices = input_data2[:1000]\n",
    "slices['y'] = slices['order_list'].map(transform)"
   ]
  },
  {
   "cell_type": "code",
   "execution_count": 37,
   "metadata": {},
   "outputs": [
    {
     "output_type": "execute_result",
     "data": {
      "text/plain": [
       "          user_id  order_number  order_dow  order_hour_of_day  \\\n",
       "order_id                                                        \n",
       "2398795         1             2          3                  7   \n",
       "473747          1             3          3                 12   \n",
       "2254736         1             4          4                  7   \n",
       "431534          1             5          4                 15   \n",
       "3367565         1             6          2                  7   \n",
       "...           ...           ...        ...                ...   \n",
       "1338309        75            20          6                 11   \n",
       "3192011        75            21          0                 13   \n",
       "1578024        75            22          2                 13   \n",
       "1657089        75            23          4                 14   \n",
       "1522904        76             2          5                 11   \n",
       "\n",
       "          days_since_prior_order  \\\n",
       "order_id                           \n",
       "2398795                     15.0   \n",
       "473747                      21.0   \n",
       "2254736                     29.0   \n",
       "431534                      28.0   \n",
       "3367565                     19.0   \n",
       "...                          ...   \n",
       "1338309                     14.0   \n",
       "3192011                     22.0   \n",
       "1578024                      9.0   \n",
       "1657089                      9.0   \n",
       "1522904                     30.0   \n",
       "\n",
       "                                            last_order_list  \\\n",
       "order_id                                                      \n",
       "2398795                   [196, 14084, 12427, 26088, 26405]   \n",
       "473747             [196, 10258, 12427, 13176, 26088, 13032]   \n",
       "2254736                   [196, 12427, 10258, 25133, 30450]   \n",
       "431534                    [196, 12427, 10258, 25133, 26405]   \n",
       "3367565   [196, 12427, 10258, 25133, 10326, 17122, 41787...   \n",
       "...                                                     ...   \n",
       "1338309   [22451, 21267, 48364, 27105, 12872, 27104, 100...   \n",
       "3192011   [4562, 22451, 13176, 12872, 27105, 44683, 2710...   \n",
       "1578024   [4562, 47626, 11520, 27105, 22451, 34969, 3098...   \n",
       "1657089   [24964, 21267, 29418, 19303, 48364, 22451, 271...   \n",
       "1522904                          [15460, 49495, 246, 36107]   \n",
       "\n",
       "                                                          y  \n",
       "order_id                                                     \n",
       "2398795   [0.0, 0.0, 0.0, 0.0, 0.0, 0.0, 0.0, 0.0, 0.0, ...  \n",
       "473747    [0.0, 0.0, 0.0, 0.0, 0.0, 0.0, 0.0, 0.0, 0.0, ...  \n",
       "2254736   [0.0, 0.0, 0.0, 0.0, 0.0, 0.0, 0.0, 0.0, 0.0, ...  \n",
       "431534    [0.0, 0.0, 0.0, 0.0, 0.0, 0.0, 0.0, 0.0, 0.0, ...  \n",
       "3367565   [0.0, 0.0, 0.0, 0.0, 0.0, 0.0, 0.0, 0.0, 0.0, ...  \n",
       "...                                                     ...  \n",
       "1338309   [0.0, 0.0, 0.0, 0.0, 0.0, 0.0, 0.0, 0.0, 0.0, ...  \n",
       "3192011   [0.0, 0.0, 0.0, 0.0, 0.0, 0.0, 0.0, 0.0, 0.0, ...  \n",
       "1578024   [0.0, 0.0, 0.0, 0.0, 0.0, 0.0, 0.0, 0.0, 0.0, ...  \n",
       "1657089   [0.0, 0.0, 0.0, 0.0, 0.0, 0.0, 0.0, 0.0, 0.0, ...  \n",
       "1522904   [0.0, 0.0, 0.0, 0.0, 0.0, 0.0, 0.0, 0.0, 0.0, ...  \n",
       "\n",
       "[1000 rows x 7 columns]"
      ],
      "text/html": "<div>\n<style scoped>\n    .dataframe tbody tr th:only-of-type {\n        vertical-align: middle;\n    }\n\n    .dataframe tbody tr th {\n        vertical-align: top;\n    }\n\n    .dataframe thead th {\n        text-align: right;\n    }\n</style>\n<table border=\"1\" class=\"dataframe\">\n  <thead>\n    <tr style=\"text-align: right;\">\n      <th></th>\n      <th>user_id</th>\n      <th>order_number</th>\n      <th>order_dow</th>\n      <th>order_hour_of_day</th>\n      <th>days_since_prior_order</th>\n      <th>last_order_list</th>\n      <th>y</th>\n    </tr>\n    <tr>\n      <th>order_id</th>\n      <th></th>\n      <th></th>\n      <th></th>\n      <th></th>\n      <th></th>\n      <th></th>\n      <th></th>\n    </tr>\n  </thead>\n  <tbody>\n    <tr>\n      <th>2398795</th>\n      <td>1</td>\n      <td>2</td>\n      <td>3</td>\n      <td>7</td>\n      <td>15.0</td>\n      <td>[196, 14084, 12427, 26088, 26405]</td>\n      <td>[0.0, 0.0, 0.0, 0.0, 0.0, 0.0, 0.0, 0.0, 0.0, ...</td>\n    </tr>\n    <tr>\n      <th>473747</th>\n      <td>1</td>\n      <td>3</td>\n      <td>3</td>\n      <td>12</td>\n      <td>21.0</td>\n      <td>[196, 10258, 12427, 13176, 26088, 13032]</td>\n      <td>[0.0, 0.0, 0.0, 0.0, 0.0, 0.0, 0.0, 0.0, 0.0, ...</td>\n    </tr>\n    <tr>\n      <th>2254736</th>\n      <td>1</td>\n      <td>4</td>\n      <td>4</td>\n      <td>7</td>\n      <td>29.0</td>\n      <td>[196, 12427, 10258, 25133, 30450]</td>\n      <td>[0.0, 0.0, 0.0, 0.0, 0.0, 0.0, 0.0, 0.0, 0.0, ...</td>\n    </tr>\n    <tr>\n      <th>431534</th>\n      <td>1</td>\n      <td>5</td>\n      <td>4</td>\n      <td>15</td>\n      <td>28.0</td>\n      <td>[196, 12427, 10258, 25133, 26405]</td>\n      <td>[0.0, 0.0, 0.0, 0.0, 0.0, 0.0, 0.0, 0.0, 0.0, ...</td>\n    </tr>\n    <tr>\n      <th>3367565</th>\n      <td>1</td>\n      <td>6</td>\n      <td>2</td>\n      <td>7</td>\n      <td>19.0</td>\n      <td>[196, 12427, 10258, 25133, 10326, 17122, 41787...</td>\n      <td>[0.0, 0.0, 0.0, 0.0, 0.0, 0.0, 0.0, 0.0, 0.0, ...</td>\n    </tr>\n    <tr>\n      <th>...</th>\n      <td>...</td>\n      <td>...</td>\n      <td>...</td>\n      <td>...</td>\n      <td>...</td>\n      <td>...</td>\n      <td>...</td>\n    </tr>\n    <tr>\n      <th>1338309</th>\n      <td>75</td>\n      <td>20</td>\n      <td>6</td>\n      <td>11</td>\n      <td>14.0</td>\n      <td>[22451, 21267, 48364, 27105, 12872, 27104, 100...</td>\n      <td>[0.0, 0.0, 0.0, 0.0, 0.0, 0.0, 0.0, 0.0, 0.0, ...</td>\n    </tr>\n    <tr>\n      <th>3192011</th>\n      <td>75</td>\n      <td>21</td>\n      <td>0</td>\n      <td>13</td>\n      <td>22.0</td>\n      <td>[4562, 22451, 13176, 12872, 27105, 44683, 2710...</td>\n      <td>[0.0, 0.0, 0.0, 0.0, 0.0, 0.0, 0.0, 0.0, 0.0, ...</td>\n    </tr>\n    <tr>\n      <th>1578024</th>\n      <td>75</td>\n      <td>22</td>\n      <td>2</td>\n      <td>13</td>\n      <td>9.0</td>\n      <td>[4562, 47626, 11520, 27105, 22451, 34969, 3098...</td>\n      <td>[0.0, 0.0, 0.0, 0.0, 0.0, 0.0, 0.0, 0.0, 0.0, ...</td>\n    </tr>\n    <tr>\n      <th>1657089</th>\n      <td>75</td>\n      <td>23</td>\n      <td>4</td>\n      <td>14</td>\n      <td>9.0</td>\n      <td>[24964, 21267, 29418, 19303, 48364, 22451, 271...</td>\n      <td>[0.0, 0.0, 0.0, 0.0, 0.0, 0.0, 0.0, 0.0, 0.0, ...</td>\n    </tr>\n    <tr>\n      <th>1522904</th>\n      <td>76</td>\n      <td>2</td>\n      <td>5</td>\n      <td>11</td>\n      <td>30.0</td>\n      <td>[15460, 49495, 246, 36107]</td>\n      <td>[0.0, 0.0, 0.0, 0.0, 0.0, 0.0, 0.0, 0.0, 0.0, ...</td>\n    </tr>\n  </tbody>\n</table>\n<p>1000 rows × 7 columns</p>\n</div>"
     },
     "metadata": {},
     "execution_count": 37
    }
   ],
   "source": [
    "slices.drop('order_list', axis=1)"
   ]
  },
  {
   "cell_type": "code",
   "execution_count": 43,
   "metadata": {},
   "outputs": [],
   "source": [
    "def transform(order_list):\n",
    "    hist = np.zeros(145)\n",
    "    hist[:len(order_list)] = order_list\n",
    "    return hist\n",
    "\n",
    "hist_seq = slices['last_order_list'].map(transform)"
   ]
  },
  {
   "cell_type": "code",
   "execution_count": 44,
   "metadata": {},
   "outputs": [
    {
     "output_type": "execute_result",
     "data": {
      "text/plain": [
       "order_id\n",
       "2398795    [196.0, 14084.0, 12427.0, 26088.0, 26405.0, 0....\n",
       "473747     [196.0, 10258.0, 12427.0, 13176.0, 26088.0, 13...\n",
       "2254736    [196.0, 12427.0, 10258.0, 25133.0, 30450.0, 0....\n",
       "431534     [196.0, 12427.0, 10258.0, 25133.0, 26405.0, 0....\n",
       "3367565    [196.0, 12427.0, 10258.0, 25133.0, 10326.0, 17...\n",
       "                                 ...                        \n",
       "1338309    [22451.0, 21267.0, 48364.0, 27105.0, 12872.0, ...\n",
       "3192011    [4562.0, 22451.0, 13176.0, 12872.0, 27105.0, 4...\n",
       "1578024    [4562.0, 47626.0, 11520.0, 27105.0, 22451.0, 3...\n",
       "1657089    [24964.0, 21267.0, 29418.0, 19303.0, 48364.0, ...\n",
       "1522904    [15460.0, 49495.0, 246.0, 36107.0, 0.0, 0.0, 0...\n",
       "Name: last_order_list, Length: 1000, dtype: object"
      ]
     },
     "metadata": {},
     "execution_count": 44
    }
   ],
   "source": [
    "hist_seq"
   ]
  },
  {
   "cell_type": "code",
   "execution_count": 53,
   "metadata": {},
   "outputs": [
    {
     "output_type": "execute_result",
     "data": {
      "text/plain": [
       "array([[  196., 14084., 12427., ...,     0.,     0.,     0.],\n",
       "       [  196., 10258., 12427., ...,     0.,     0.,     0.],\n",
       "       [  196., 12427., 10258., ...,     0.,     0.,     0.],\n",
       "       ...,\n",
       "       [ 4562., 47626., 11520., ...,     0.,     0.,     0.],\n",
       "       [24964., 21267., 29418., ...,     0.,     0.,     0.],\n",
       "       [15460., 49495.,   246., ...,     0.,     0.,     0.]])"
      ]
     },
     "metadata": {},
     "execution_count": 53
    }
   ],
   "source": [
    "np.array(hist_seq.to_list())"
   ]
  },
  {
   "cell_type": "code",
   "execution_count": 136,
   "metadata": {},
   "outputs": [],
   "source": [
    "products = tables['prior'][['product_id']]"
   ]
  },
  {
   "cell_type": "code",
   "execution_count": 137,
   "metadata": {},
   "outputs": [],
   "source": [
    "products['cnt'] = 1"
   ]
  },
  {
   "cell_type": "code",
   "execution_count": 139,
   "metadata": {},
   "outputs": [],
   "source": [
    "prob = products.groupby('product_id')['cnt'].sum().map(lambda x: np.power(x, 0.75))"
   ]
  },
  {
   "cell_type": "code",
   "execution_count": 157,
   "metadata": {
    "tags": [
     "outputPrepend"
    ]
   },
   "outputs": [
    {
     "output_type": "stream",
     "name": "stdout",
     "text": [
      "607982256e-06, 49029: 2.606731689277665e-06, 49030: 5.4194284115841764e-05, 49031: 9.941225573965557e-06, 49032: 2.939878746618415e-05, 49033: 1.249164928113151e-06, 49034: 2.1877772453005794e-06, 49035: 1.0916267293877489e-05, 49036: 5.182643525580035e-06, 49037: 1.5878934099252913e-05, 49038: 1.529548272108664e-05, 49039: 7.715925560036382e-06, 49040: 4.452305541104233e-06, 49041: 1.1435506116660288e-06, 49042: 1.0345736912396173e-06, 49043: 5.479978332604621e-07, 49044: 0.00014365081625174027, 49045: 2.606731689277665e-06, 49046: 1.8323411907050996e-06, 49047: 3.6793880858938075e-06, 49048: 2.358318030120461e-06, 49049: 6.907166172708314e-06, 49050: 3.309964646951321e-06, 49051: 1.40126162847362e-05, 49052: 6.490851367575305e-06, 49053: 1.0560553326436374e-05, 49054: 9.671753899997615e-05, 49055: 1.452052818548035e-06, 49056: 1.0345736912396173e-06, 49057: 2.358318030120461e-06, 49058: 4.921289578467126e-06, 49059: 9.216188271110508e-07, 49060: 3.874249586046086e-05, 49061: 7.487855538257597e-06, 49062: 1.549971935896031e-06, 49063: 2.1008366202220253e-06, 49064: 4.246256982653372e-06, 49065: 1.549971935896031e-06, 49066: 3.234449568556293e-06, 49067: 8.49730862396133e-06, 49068: 3.004252274918993e-06, 49069: 1.9232152200223128e-06, 49070: 1.2302775553436191e-05, 49071: 1.6367091005633098e-05, 49072: 2.9616467452970245e-05, 49073: 2.9262162908509234e-06, 49074: 3.3849097051465963e-06, 49075: 0.0003139733629719182, 49076: 2.1008366202220253e-06, 49077: 2.358318030120461e-06, 49078: 5.439674095035821e-06, 49079: 4.475461739052607e-05, 49080: 6.799592618794777e-07, 49081: 9.216188271110508e-07, 49082: 3.431563350689915e-05, 49083: 2.226375517016563e-05, 49084: 2.44205201975219e-06, 49085: 1.3518792443169951e-06, 49086: 5.072010335198814e-05, 49087: 5.311677115444168e-06, 49088: 1.249164928113151e-06, 49089: 3.158342109141667e-06, 49090: 5.880058702821233e-06, 49091: 2.9262162908509234e-06, 49092: 1.9232152200223128e-06, 49093: 6.550859569363567e-06, 49094: 9.216188271110508e-07, 49095: 5.5727606723765206e-05, 49096: 2.0126793525010474e-06, 49097: 1.8323411907050996e-06, 49098: 0.00011067960590375313, 49099: 1.6850441422513444e-05, 49100: 1.515979021263141e-05, 49101: 3.895164404635408e-06, 49102: 1.6234444045967867e-05, 49103: 3.82369192400757e-06, 49104: 1.9232152200223128e-06, 49105: 5.311677115444168e-06, 49106: 4.855231223588431e-06, 49107: 1.1117802793876354e-05, 49108: 1.549971935896031e-06, 49109: 6.799592618794777e-07, 49110: 1.763159826426335e-05, 49111: 0.00016719726567863066, 49112: 4.3867528067495397e-05, 49113: 0.00013166462550804725, 49114: 4.223614032501964e-05, 49115: 4.655222122160974e-06, 49116: 5.479978332604621e-07, 49117: 9.216188271110508e-07, 49118: 7.1994631260658675e-06, 49119: 6.065431328174634e-06, 49120: 1.7112143450967405e-05, 49121: 1.452052818548035e-06, 49122: 4.655222122160974e-06, 49123: 6.907166172708314e-06, 49124: 1.249164928113151e-06, 49125: 2.847480268934335e-06, 49126: 1.578964281489455e-05, 49127: 9.216188271110508e-07, 49128: 6.271762443552895e-05, 49129: 7.0830277701520114e-06, 49130: 1.452052818548035e-06, 49131: 0.0002358075497299382, 49132: 2.358318030120461e-06, 49133: 3.081618277571282e-06, 49134: 8.552189128957982e-06, 49135: 5.439674095035821e-06, 49136: 1.249164928113151e-06, 49137: 1.549971935896031e-06, 49138: 2.358318030120461e-06, 49139: 0.0001014901624852107, 49140: 1.0355488977920652e-05, 49141: 7.664455496626303e-05, 49142: 6.799592618794777e-07, 49143: 6.003852931676571e-06, 49144: 6.47943262969377e-05, 49145: 6.003852931676571e-06, 49146: 5.479978332604621e-07, 49147: 2.9262162908509234e-06, 49148: 1.3518792443169951e-06, 49149: 1.549971935896031e-06, 49150: 1.1435506116660288e-06, 49151: 2.285889314014194e-05, 49152: 6.187968503510658e-06, 49153: 1.8323411907050996e-06, 49154: 5.479978332604621e-07, 49155: 1.1435506116660288e-06, 49156: 4.4026372600796986e-05, 49157: 3.7476529888684185e-05, 49158: 2.7488917483955737e-05, 49159: 2.0126793525010474e-06, 49160: 8.038322079831362e-07, 49161: 3.3849097051465963e-06, 49162: 6.799592618794777e-07, 49163: 3.459305629000822e-06, 49164: 2.1663265587547586e-05, 49165: 3.004252274918993e-06, 49166: 3.895164404635408e-06, 49167: 2.606731689277665e-06, 49168: 2.44205201975219e-06, 49169: 1.9578027280267476e-05, 49170: 4.176834674961195e-06, 49171: 1.4750251480563678e-05, 49172: 1.1368024033511047e-05, 49173: 1.0916267293877489e-05, 49174: 6.378685469388435e-05, 49175: 0.00025519911593854957, 49176: 6.912896526803363e-05, 49177: 8.038322079831362e-07, 49178: 1.549971935896031e-06, 49179: 2.606731689277665e-06, 49180: 1.0345736912396173e-06, 49181: 6.187968503510658e-06, 49182: 5.817835405387575e-06, 49183: 1.9232152200223128e-06, 49184: 1.2254179945723166e-05, 49185: 3.531133826120414e-05, 49186: 3.309964646951321e-06, 49187: 1.0200798921659252e-05, 49188: 2.1008366202220253e-06, 49189: 6.965950840470651e-06, 49190: 7.715925560036382e-06, 49191: 0.00024695332624590687, 49192: 9.890744202372395e-05, 49193: 3.6065270455128398e-06, 49194: 8.038322079831362e-07, 49195: 4.3839826660836965e-06, 49196: 4.043061960695366e-07, 49197: 6.799592618794777e-07, 49198: 0.00010913489309705443, 49199: 9.201956650314643e-06, 49200: 1.452052818548035e-06, 49201: 6.465471339925207e-05, 49202: 1.0916267293877489e-05, 49203: 2.6877749795825663e-06, 49204: 1.6458695652548275e-06, 49205: 1.9232152200223128e-06, 49206: 6.799592618794777e-07, 49207: 6.126802033464943e-06, 49208: 8.038322079831362e-07, 49209: 5.311677115444168e-06, 49210: 1.0345736912396173e-06, 49211: 3.966202355112995e-06, 49212: 7.0830277701520114e-06, 49213: 2.7680116347959485e-06, 49214: 1.249164928113151e-06, 49215: 0.00015770448409777567, 49216: 1.4059092657072655e-05, 49217: 6.319670941976836e-05, 49218: 1.1435506116660288e-06, 49219: 1.3518792443169951e-06, 49220: 4.176834674961195e-06, 49221: 2.7680116347959485e-06, 49222: 9.094748439658707e-06, 49223: 6.799592618794777e-07, 49224: 2.5113759292383347e-05, 49225: 3.459305629000822e-06, 49226: 1.8655586007757033e-05, 49227: 3.001417031060377e-05, 49228: 1.249164928113151e-06, 49229: 1.6458695652548275e-06, 49230: 1.9232152200223128e-06, 49231: 5.479978332604621e-07, 49232: 2.707927764117277e-05, 49233: 1.7399386165583952e-06, 49234: 1.8323411907050996e-06, 49235: 0.0011043006812201219, 49236: 0.00013995296898332163, 49237: 6.126802033464943e-06, 49238: 4.043061960695366e-07, 49239: 1.903474609241811e-05, 49240: 1.452052818548035e-06, 49241: 7.178906599074343e-05, 49242: 1.9232152200223128e-06, 49243: 2.2700699615270985e-05, 49244: 9.216188271110508e-07, 49245: 3.6065270455128398e-06, 49246: 1.0345736912396173e-06, 49247: 0.00016983587604466958, 49248: 5.059890831699548e-05, 49249: 1.8528628896391062e-05, 49250: 5.479978332604621e-07, 49251: 6.799592618794777e-07, 49252: 3.081618277571282e-06, 49253: 2.6877749795825663e-06, 49254: 1.7399386165583952e-06, 49255: 5.479978332604621e-07, 49256: 6.799592618794777e-07, 49257: 4.655222122160974e-06, 49258: 6.4306576638650895e-06, 49259: 1.543077514319041e-05, 49260: 4.846196366994377e-05, 49261: 2.358318030120461e-06, 49262: 2.6877749795825663e-06, 49263: 2.0126793525010474e-06, 49264: 2.9071255515205e-05, 49265: 2.1703469615544675e-05, 49266: 5.6927168740305615e-06, 49267: 7.313362866559092e-05, 49268: 1.249164928113151e-06, 49269: 3.0086290890970694e-05, 49270: 3.0446034629931622e-05, 49271: 7.997895650570909e-06, 49272: 1.0764298773532553e-05, 49273: 0.0001122868870657052, 49274: 6.799592618794777e-07, 49275: 1.5205065869068642e-05, 49276: 8.606952491510532e-06, 49277: 4.036818671931489e-06, 49278: 2.847480268934335e-06, 49279: 9.357416393497212e-05, 49280: 1.7399386165583952e-06, 49281: 4.393108885092784e-05, 49282: 9.941225573965557e-06, 49283: 9.784393873853105e-06, 49284: 3.784444099203279e-05, 49285: 9.094748439658707e-06, 49286: 1.3518792443169951e-06, 49287: 7.430477115683608e-06, 49288: 1.8323411907050996e-06, 49289: 4.246256982653372e-06, 49290: 3.6793880858938075e-06, 49291: 1.0815033954535961e-05, 49292: 2.44205201975219e-06, 49293: 3.309964646951321e-06, 49294: 8.552189128957982e-06, 49295: 1.0345736912396173e-06, 49296: 2.625371567291122e-05, 49297: 6.799592618794777e-07, 49298: 1.1017188657416632e-05, 49299: 1.3966088471848218e-05, 49300: 9.836763607982256e-06, 49301: 6.848214261550289e-06, 49302: 1.0966766672754416e-05, 49303: 5.311677115444168e-06, 49304: 6.799592618794777e-07, 49305: 1.0200798921659252e-05, 49306: 6.291504195147473e-05, 49307: 3.82369192400757e-06, 49308: 5.182643525580035e-06, 49309: 1.7399386165583952e-06, 49310: 5.182643525580035e-06, 49311: 1.249164928113151e-06, 49312: 4.036818671931489e-06, 49313: 6.003852931676571e-06, 49314: 1.6458695652548275e-06, 49315: 1.1467598459653597e-05, 49316: 3.234449568556293e-06, 49317: 7.315274111213929e-06, 49318: 5.469713571991669e-05, 49319: 4.5573125046048574e-05, 49320: 1.7760662870592075e-05, 49321: 6.799592618794777e-07, 49322: 1.8323411907050996e-06, 49323: 3.058953539206056e-05, 49324: 3.5788677705941994e-05, 49325: 9.094419226808837e-05, 49326: 5.050794851067917e-05, 49327: 2.333130571245519e-05, 49328: 3.4350127360897905e-05, 49329: 4.722204627834194e-06, 49330: 8.66159995125086e-06, 49331: 4.987053669707754e-06, 49332: 1.605701704684187e-05, 49333: 7.94176988728055e-06, 49334: 3.895164404635408e-06, 49335: 7.372950616888406e-06, 49336: 1.3518792443169951e-06, 49337: 5.817835405387575e-06, 49338: 9.201956650314643e-06, 49339: 6.309702055250294e-06, 49340: 8.49730862396133e-06, 49341: 9.889040569367564e-06, 49342: 2.358318030120461e-06, 49343: 9.216188271110508e-07, 49344: 2.1877772453005794e-06, 49345: 4.855231223588431e-06, 49346: 1.2544803379454649e-05, 49347: 5.942063281296087e-06, 49348: 5.311677115444168e-06, 49349: 1.1566885506723317e-05, 49350: 1.2544803379454649e-05, 49351: 2.5381267688551616e-05, 49352: 5.339242097465573e-05, 49353: 1.953641615801752e-05, 49354: 4.725769913863995e-05, 49355: 5.7711786406223504e-05, 49356: 6.003852931676571e-06, 49357: 6.799592618794777e-07, 49358: 5.566674812475785e-06, 49359: 2.847480268934335e-06, 49360: 3.533171965956861e-06, 49361: 1.3518792443169951e-06, 49362: 6.799592618794777e-07, 49363: 4.2332680106987384e-05, 49364: 1.8323411907050996e-06, 49365: 5.479978332604621e-07, 49366: 4.788871901305131e-06, 49367: 4.043061960695366e-07, 49368: 1.4059092657072655e-05, 49369: 2.847480268934335e-06, 49370: 1.7399386165583952e-06, 49371: 7.024570610564565e-06, 49372: 4.855231223588431e-06, 49373: 1.249164928113151e-06, 49374: 6.66279597488396e-05, 49375: 2.44205201975219e-06, 49376: 1.452052818548035e-06, 49377: 3.3849097051465963e-06, 49378: 7.141324549918549e-06, 49379: 3.158342109141667e-06, 49380: 5.817835405387575e-06, 49381: 7.321403947855723e-05, 49382: 1.0345736912396173e-06, 49383: 0.0003165595056131913, 49384: 5.6927168740305615e-06, 49385: 1.810332050276696e-05, 49386: 7.545087770996366e-06, 49387: 2.313485822403892e-05, 49388: 8.038322079831362e-07, 49389: 1.1435506116660288e-06, 49390: 3.3849097051465963e-06, 49391: 5.052529936994396e-06, 49392: 2.6877749795825663e-06, 49393: 2.0126793525010474e-06, 49394: 8.038322079831362e-07, 49395: 1.534062435810612e-05, 49396: 3.424661109486905e-05, 49397: 1.8401381150039104e-05, 49398: 7.372950616888406e-06, 49399: 4.036818671931489e-06, 49400: 1.1435506116660288e-06, 49401: 0.00010141805010276357, 49402: 1.0345736912396173e-06, 49403: 3.459305629000822e-06, 49404: 1.3214405053874755e-05, 49405: 2.44205201975219e-06, 49406: 2.0126793525010474e-06, 49407: 8.038322079831362e-07, 49408: 6.490851367575305e-06, 49409: 7.829119189469904e-06, 49410: 4.58791678741331e-06, 49411: 9.308750110875206e-06, 49412: 1.4290712722387109e-05, 49413: 7.141324549918549e-06, 49414: 2.545752592345364e-05, 49415: 1.549971935896031e-06, 49416: 0.00014341528211699254, 49417: 1.7717676175257913e-05, 49418: 6.187968503510658e-06, 49419: 1.0345736912396173e-06, 49420: 1.6458695652548275e-06, 49421: 5.479978332604621e-07, 49422: 5.479978332604621e-07, 49423: 5.479978332604621e-07, 49424: 5.918509442496227e-05, 49425: 5.311677115444168e-06, 49426: 1.1117802793876354e-05, 49427: 4.10702557854542e-06, 49428: 6.907166172708314e-06, 49429: 1.7717676175257913e-05, 49430: 1.452052818548035e-06, 49431: 1.452052818548035e-06, 49432: 8.038322079831362e-07, 49433: 2.44205201975219e-06, 49434: 1.9232152200223128e-06, 49435: 1.0097236815914667e-05, 49436: 1.4429085172412184e-05, 49437: 8.824858962477093e-06, 49438: 2.0126793525010474e-06, 49439: 2.2937853108320404e-05, 49440: 2.472994662177059e-05, 49441: 5.912754936122562e-05, 49442: 2.1008366202220253e-06, 49443: 1.249164928113151e-06, 49444: 1.249164928113151e-06, 49445: 1.2976588287598207e-05, 49446: 3.081618277571282e-06, 49447: 1.0611611679157936e-05, 49448: 8.716132724396248e-06, 49449: 1.0345736912396173e-06, 49450: 2.606731689277665e-06, 49451: 4.5353242892469705e-05, 49452: 1.1435506116660288e-06, 49453: 4.043061960695366e-07, 49454: 3.82369192400757e-06, 49455: 1.0345736912396173e-06, 49456: 5.566674812475785e-06, 49457: 4.036818671931489e-06, 49458: 5.880058702821233e-06, 49459: 3.751771288825471e-06, 49460: 3.3849097051465963e-06, 49461: 4.788871901305131e-06, 49462: 4.520280690679211e-06, 49463: 2.1259843667553598e-05, 49464: 3.081618277571282e-06, 49465: 3.309964646951321e-06, 49466: 1.549971935896031e-06, 49467: 9.216188271110508e-07, 49468: 2.6877749795825663e-06, 49469: 1.8323411907050996e-06, 49470: 4.855231223588431e-06, 49471: 2.606731689277665e-06, 49472: 8.038322079831362e-07, 49473: 1.8323411907050996e-06, 49474: 2.4537295017437114e-05, 49475: 1.5610552736742235e-05, 49476: 3.187116379113034e-05, 49477: 4.788871901305131e-06, 49478: 0.0001667697291100847, 49479: 3.3849097051465963e-06, 49480: 2.7488917483955737e-05, 49481: 9.079457196388939e-05, 49482: 6.799592618794777e-07, 49483: 2.0126793525010474e-06, 49484: 9.836763607982256e-06, 49485: 1.7399386165583952e-06, 49486: 2.2735808208041235e-06, 49487: 2.404019025027891e-07, 49488: 5.531618682896942e-05, 49489: 1.8323411907050996e-06, 49490: 3.6065270455128398e-06, 49491: 2.6366797139563736e-05, 49492: 1.4290712722387109e-05, 49493: 1.9232152200223128e-06, 49494: 1.9232152200223128e-06, 49495: 1.2302775553436191e-05, 49496: 5.66350313533843e-05, 49497: 3.201249950875807e-05, 49498: 9.216188271110508e-07, 49499: 1.7242494587725926e-05, 49500: 3.309964646951321e-06, 49501: 2.0126793525010474e-06, 49502: 3.004252274918993e-06, 49503: 6.187968503510658e-06, 49504: 1.1566885506723317e-05, 49505: 3.337986439769087e-05, 49506: 1.6458695652548275e-06, 49507: 1.3732667689712152e-05, 49508: 3.414299042483312e-05, 49509: 2.6630028087557417e-05, 49510: 2.434413788839019e-05, 49511: 1.1715286181170742e-05, 49512: 1.0345736912396173e-06, 49513: 1.025244862205979e-05, 49514: 4.452305541104233e-06, 49515: 3.3849097051465963e-06, 49516: 3.966202355112995e-06, 49517: 0.00011683438546095047, 49518: 4.76293207989882e-05, 49519: 7.267740892381111e-05, 49520: 0.00031665819914635017, 49521: 2.2184004338932103e-05, 49522: 2.5381267688551616e-05, 49523: 1.249164928113151e-06, 49524: 2.262146499896433e-05, 49525: 4.520280690679211e-06, 49526: 1.0345736912396173e-06, 49527: 3.533171965956861e-06, 49528: 3.309964646951321e-06, 49529: 1.452052818548035e-06, 49530: 1.9232152200223128e-06, 49531: 1.0966766672754416e-05, 49532: 1.549971935896031e-06, 49533: 0.00021317160936277853, 49534: 1.8528628896391062e-05, 49535: 3.081618277571282e-06, 49536: 3.966202355112995e-06, 49537: 1.1435506116660288e-06, 49538: 1.249164928113151e-06, 49539: 3.459305629000822e-06, 49541: 4.043061960695366e-07, 49542: 5.479978332604621e-07, 49543: 2.7748539966070272e-05, 49544: 6.740078454063038e-05, 49545: 1.6458695652548275e-06, 49546: 1.1435506116660288e-06, 49547: 7.257445622213377e-06, 49548: 1.7399386165583952e-06, 49549: 9.468179854550102e-06, 49550: 3.234449568556293e-06, 49551: 3.004252274918993e-06, 49552: 5.880058702821233e-06, 49553: 1.6458695652548275e-06, 49554: 3.895164404635408e-06, 49555: 2.5381267688551616e-05, 49556: 3.158342109141667e-06, 49557: 8.038322079831362e-07, 49558: 2.5113759292383347e-05, 49559: 4.520280690679211e-06, 49560: 9.836763607982256e-06, 49561: 3.004252274918993e-06, 49562: 1.549971935896031e-06, 49563: 4.315302985340749e-06, 49564: 6.799592618794777e-07, 49565: 2.44205201975219e-06, 49566: 2.3292060447535534e-05, 49567: 1.80178601720995e-05, 49568: 1.0345736912396173e-06, 49569: 6.799592618794777e-07, 49570: 2.8449196145775937e-05, 49571: 1.6458695652548275e-06, 49572: 6.309702055250294e-06, 49573: 7.1994631260658675e-06, 49574: 3.081618277571282e-06, 49575: 3.895164404635408e-06, 49576: 4.10702557854542e-06, 49577: 6.248934092119767e-06, 49578: 1.452052818548035e-06, 49579: 2.1877772453005794e-06, 49580: 9.216188271110508e-07, 49581: 1.549971935896031e-06, 49582: 6.799592618794777e-07, 49583: 7.406993447198442e-05, 49584: 8.038322079831362e-07, 49585: 0.00011483350889564678, 49586: 1.452052818548035e-06, 49587: 1.80178601720995e-05, 49588: 3.084012366042166e-05, 49589: 2.1877772453005794e-06, 49590: 9.679372757601861e-06, 49591: 4.452305541104233e-06, 49592: 4.921289578467126e-06, 49593: 9.521124117307458e-06, 49594: 1.0355488977920652e-05, 49595: 1.3518792443169951e-06, 49596: 2.0126793525010474e-06, 49597: 8.221103851344782e-06, 49598: 1.8528628896391062e-05, 49599: 1.452052818548035e-06, 49600: 1.4841584533333208e-05, 49601: 1.549971935896031e-06, 49602: 7.315274111213929e-06, 49603: 1.9232152200223128e-06, 49604: 1.452052818548035e-06, 49605: 0.000161280886125009, 49606: 4.520280690679211e-06, 49607: 6.799592618794777e-07, 49608: 3.54820621530572e-05, 49609: 5.053827450869208e-05, 49610: 0.0001884132184553034, 49611: 4.855231223588431e-06, 49612: 8.66159995125086e-06, 49613: 2.0126793525010474e-06, 49614: 1.4475110992740465e-05, 49615: 4.904504708795162e-05, 49616: 9.73193053789796e-06, 49617: 1.2544803379454649e-05, 49618: 1.0662588272496182e-05, 49619: 1.249164928113151e-06, 49620: 1.161642254838428e-05, 49621: 0.0001350221199228918, 49622: 2.8779080170451637e-05, 49623: 8.038322079831362e-07, 49624: 1.1435506116660288e-06, 49625: 1.549971935896031e-06, 49626: 8.33195149280564e-06, 49627: 4.043061960695366e-07, 49628: 0.00014077271279661202, 49629: 1.249164928113151e-06, 49630: 2.681752008483777e-05, 49631: 4.043061960695366e-07, 49632: 8.038322079831362e-07, 49633: 2.2898384469065115e-05, 49634: 9.094748439658707e-06, 49635: 5.6298134245782045e-06, 49636: 1.1435506116660288e-06, 49637: 1.6850441422513444e-05, 49638: 1.6278699707543732e-05, 49639: 3.533171965956861e-06, 49640: 4.1978340268293167e-05, 49641: 6.799592618794777e-07, 49642: 2.847480268934335e-06, 49643: 1.0345736912396173e-06, 49644: 2.9905880969606926e-05, 49645: 2.44205201975219e-06, 49646: 1.452052818548035e-06, 49647: 1.728587195037194e-05, 49648: 1.7399386165583952e-06, 49649: 4.655222122160974e-06, 49650: 1.249164928113151e-06, 49651: 3.158342109141667e-06, 49652: 2.9869755480821244e-05, 49653: 4.722204627834194e-06, 49654: 1.452052818548035e-06, 49655: 4.0681296644023025e-05, 49656: 5.479978332604621e-07, 49657: 1.0345736912396173e-06, 49658: 4.246256982653372e-06, 49659: 1.5385721760178502e-05, 49660: 9.216188271110508e-07, 49661: 1.6458695652548275e-06, 49662: 2.7680116347959485e-06, 49663: 1.549971935896031e-06, 49664: 1.2205520015235985e-05, 49665: 7.94176988728055e-06, 49666: 8.038322079831362e-07, 49667: 6.113072628341418e-05, 49668: 2.060899197646514e-05, 49669: 1.0345736912396173e-06, 49670: 1.4151892209734083e-05, 49671: 5.503296575099623e-06, 49672: 1.7399386165583952e-06, 49673: 2.7680116347959485e-06, 49674: 6.907166172708314e-06, 49675: 6.126802033464943e-06, 49676: 4.520280690679211e-06, 49677: 1.377945705259065e-05, 49678: 2.0568087582332605e-05, 49679: 9.361993789388063e-06, 49680: 4.332601380749863e-05, 49681: 5.817835405387575e-06, 49682: 8.053890429833449e-06, 49683: 0.0013245633693681758, 49684: 1.249164928113151e-06, 49685: 4.452305541104233e-06, 49686: 8.716132724396248e-06, 49687: 1.6458695652548275e-06, 49688: 6.965950840470651e-06}\n"
     ]
    }
   ],
   "source": [
    "prob_dict = dict(prob / prob.sum())\n",
    "print(prob_dict)"
   ]
  },
  {
   "cell_type": "code",
   "execution_count": 158,
   "metadata": {},
   "outputs": [
    {
     "output_type": "execute_result",
     "data": {
      "text/plain": [
       "array([    0,  3630,  3718,  7045, 25383, 27499, 36233, 37703, 43725,\n",
       "       45971, 46625, 49540])"
      ]
     },
     "metadata": {},
     "execution_count": 158
    }
   ],
   "source": [
    "probs = np.vectorize(prob_dict.get)(np.arange(0, 49689)).astype('float32')\n",
    "np.arange(0, 49689)[np.isnan(probs)]"
   ]
  },
  {
   "cell_type": "code",
   "execution_count": 110,
   "metadata": {},
   "outputs": [],
   "source": [
    "probs[np.isnan(probs)] = 0"
   ]
  },
  {
   "cell_type": "code",
   "execution_count": 114,
   "metadata": {},
   "outputs": [
    {
     "output_type": "execute_result",
     "data": {
      "text/plain": [
       "45204"
      ]
     },
     "metadata": {},
     "execution_count": 114
    }
   ],
   "source": [
    "np.random.choice(np.arange(0, 49689), p=probs)"
   ]
  },
  {
   "cell_type": "code",
   "execution_count": 174,
   "metadata": {},
   "outputs": [],
   "source": [
    "class NegativeSampling:\n",
    "    def __init__(self, item_count, consts, sample_ratio):\n",
    "        self.item_count = item_count\n",
    "        prob_dict = consts['product_prob']\n",
    "        self.probs = np.vectorize(prob_dict.get)(np.arange(0, item_count)).astype('float32')\n",
    "        self.probs[np.isnan(self.probs)] = 0\n",
    "        self.sample_ratio = sample_ratio\n",
    "\n",
    "    def __call__(self, order_list):\n",
    "        sub_samples_list = []\n",
    "        pos_set = set(order_list)\n",
    "        neg_list = np.array([self.sample_neg_once(pos_set) for i in range(self.sample_ratio * len(order_list))])\n",
    "        for i in range(len(order_list)):\n",
    "            index = np.random.randint(len(neg_list), size=self.sample_ratio)\n",
    "            sub_samples_list.append(np.append(neg_list[index], order_list[i]))\n",
    "        return sub_samples_list\n",
    "\n",
    "    def sample_neg_once(self, pos):\n",
    "        neg = np.random.choice(np.arange(0, self.item_count), p=self.probs)\n",
    "        while neg in pos:\n",
    "            neg = np.random.choice(np.arange(0, self.item_count), p=self.probs)\n",
    "        return neg"
   ]
  },
  {
   "cell_type": "code",
   "execution_count": 122,
   "metadata": {},
   "outputs": [
    {
     "output_type": "execute_result",
     "data": {
      "text/plain": [
       "array([ 9,  2, 15,  5, 12,  3, 14, 11,  9, 15])"
      ]
     },
     "metadata": {},
     "execution_count": 122
    }
   ],
   "source": [
    "np.random.randint(20, size=(10))"
   ]
  },
  {
   "cell_type": "code",
   "execution_count": 175,
   "metadata": {},
   "outputs": [],
   "source": [
    "sub_sampled = slices['order_list'].map(NegativeSampling(49689, {'product_prob':prob_dict}, 20))"
   ]
  },
  {
   "cell_type": "code",
   "execution_count": 177,
   "metadata": {
    "tags": []
   },
   "outputs": [],
   "source": [
    "slices['sub_sampled'] = sub_sampled"
   ]
  },
  {
   "cell_type": "code",
   "execution_count": 197,
   "metadata": {},
   "outputs": [
    {
     "output_type": "execute_result",
     "data": {
      "text/plain": [
       "8"
      ]
     },
     "metadata": {},
     "execution_count": 197
    }
   ],
   "source": [
    "len(slices.iloc[3,-1])"
   ]
  },
  {
   "cell_type": "code",
   "execution_count": 178,
   "metadata": {},
   "outputs": [],
   "source": [
    "slices2 = slices.explode('sub_sampled')"
   ]
  },
  {
   "cell_type": "code",
   "execution_count": 200,
   "metadata": {},
   "outputs": [
    {
     "output_type": "execute_result",
     "data": {
      "text/plain": [
       "order_id\n",
       "2398795                [  196 10258 12427 13176 26088 13032]\n",
       "2398795                [  196 10258 12427 13176 26088 13032]\n",
       "2398795                [  196 10258 12427 13176 26088 13032]\n",
       "2398795                [  196 10258 12427 13176 26088 13032]\n",
       "2398795                [  196 10258 12427 13176 26088 13032]\n",
       "                                 ...                        \n",
       "1657089    [29071 21267 21903    45 26369 42028    79  84...\n",
       "1657089    [29071 21267 21903    45 26369 42028    79  84...\n",
       "1657089    [29071 21267 21903    45 26369 42028    79  84...\n",
       "1657089    [29071 21267 21903    45 26369 42028    79  84...\n",
       "1522904                                              [36107]\n",
       "Name: order_list, Length: 9139, dtype: object"
      ]
     },
     "metadata": {},
     "execution_count": 200
    }
   ],
   "source": [
    "slices2['order_list'].map(str)"
   ]
  },
  {
   "cell_type": "code",
   "execution_count": 52,
   "metadata": {},
   "outputs": [
    {
     "output_type": "execute_result",
     "data": {
      "text/plain": [
       "Empty DataFrame\n",
       "Columns: [Unnamed: 0, Unnamed: 0.1, order_id, user_id, order_number, order_dow, order_hour_of_day, days_since_prior_order, last_order_list, order_list, sub_samples]\n",
       "Index: []"
      ],
      "text/html": "<div>\n<style scoped>\n    .dataframe tbody tr th:only-of-type {\n        vertical-align: middle;\n    }\n\n    .dataframe tbody tr th {\n        vertical-align: top;\n    }\n\n    .dataframe thead th {\n        text-align: right;\n    }\n</style>\n<table border=\"1\" class=\"dataframe\">\n  <thead>\n    <tr style=\"text-align: right;\">\n      <th></th>\n      <th>Unnamed: 0</th>\n      <th>Unnamed: 0.1</th>\n      <th>order_id</th>\n      <th>user_id</th>\n      <th>order_number</th>\n      <th>order_dow</th>\n      <th>order_hour_of_day</th>\n      <th>days_since_prior_order</th>\n      <th>last_order_list</th>\n      <th>order_list</th>\n      <th>sub_samples</th>\n    </tr>\n  </thead>\n  <tbody>\n  </tbody>\n</table>\n</div>"
     },
     "metadata": {},
     "execution_count": 52
    }
   ],
   "source": [
    "shard = pd.read_csv('data_loader/data/prior_input_shard_2.csv')\n",
    "index = shard['sub_samples'].map(lambda x: not isinstance(x, str))\n",
    "shard.loc[index]"
   ]
  },
  {
   "cell_type": "code",
   "execution_count": 16,
   "metadata": {},
   "outputs": [],
   "source": [
    "raw = pd.read_csv('data_loader/data/prior_raw.csv')"
   ]
  },
  {
   "cell_type": "code",
   "execution_count": 26,
   "metadata": {},
   "outputs": [
    {
     "output_type": "execute_result",
     "data": {
      "text/plain": [
       "True"
      ]
     },
     "metadata": {},
     "execution_count": 26
    }
   ],
   "source": [
    "(raw['last_order_list'].map(type) == type('')).all()"
   ]
  },
  {
   "cell_type": "code",
   "execution_count": 3,
   "metadata": {},
   "outputs": [],
   "source": [
    "def load_array(series, dtype='float32'):\n",
    "    # transform from str type to numpy array\n",
    "    def aux(mylist):\n",
    "        if mylist[0] == '[':\n",
    "            mylist = mylist[1:]\n",
    "        if mylist[-1] == ']':\n",
    "            mylist = mylist[:-1]\n",
    "        if '[' == mylist[0][0]:\n",
    "            mylist[0] = mylist[0][1:]\n",
    "        if ']' == mylist[-1][-1]:\n",
    "            mylist[-1] = mylist[-1][:-1]\n",
    "        return np.array(mylist, dtype=dtype)\n",
    "    return series.map(str.split).map(aux)\n",
    "\n",
    "def load_csv_with_arrays(path, columns):\n",
    "    raw = pd.read_csv(path)\n",
    "    for cname, dtype in columns:\n",
    "        raw[cname] = load_array(raw[cname], dtype)\n",
    "    return raw"
   ]
  },
  {
   "cell_type": "code",
   "execution_count": 6,
   "metadata": {},
   "outputs": [],
   "source": [
    "array_columns = [('order_list', 'int32'), ('last_order_list', 'int32'), ('sub_samples', 'int32')]\n",
    "res = load_csv_with_arrays('data_loader/data/prior_input_shard_2.csv', array_columns)"
   ]
  },
  {
   "cell_type": "code",
   "execution_count": 10,
   "metadata": {},
   "outputs": [
    {
     "output_type": "execute_result",
     "data": {
      "text/plain": [
       "1306769.921875"
      ]
     },
     "metadata": {},
     "execution_count": 10
    }
   ],
   "source": [
    "res.size * 100 / 128 / 2"
   ]
  },
  {
   "cell_type": "code",
   "execution_count": 86,
   "metadata": {},
   "outputs": [],
   "source": [
    "f = open('consts.pkl', 'rb')\n",
    "consts = pkl.load(f)\n",
    "f.close()"
   ]
  },
  {
   "cell_type": "code",
   "execution_count": 69,
   "metadata": {},
   "outputs": [],
   "source": [
    "import tensorflow as tf"
   ]
  },
  {
   "cell_type": "code",
   "execution_count": 76,
   "metadata": {},
   "outputs": [
    {
     "output_type": "stream",
     "name": "stdout",
     "text": [
      "[104  94  38   5]\n"
     ]
    }
   ],
   "source": [
    "aisle_list = tf.convert_to_tensor(consts['aisle_list'], dtype=tf.int32)\n",
    "index = tf.Variable([1,2,3,4])\n",
    "with tf.Session() as sess:\n",
    "    sess.run(tf.global_variables_initializer())\n",
    "    out = sess.run(tf.gather(aisle_list, index))\n",
    "    print(out)"
   ]
  },
  {
   "cell_type": "code",
   "execution_count": 90,
   "metadata": {
    "tags": []
   },
   "outputs": [
    {
     "output_type": "stream",
     "name": "stdout",
     "text": [
      "[0, 0, 0, 0, 61, 104, 94, 38, 5, 11]\n"
     ]
    }
   ],
   "source": [
    "aisle_list = consts['aisle_list']\n",
    "aisle_list.insert(0, 0)\n",
    "print(aisle_list[:10])"
   ]
  },
  {
   "cell_type": "code",
   "execution_count": 2,
   "metadata": {},
   "outputs": [],
   "source": [
    "tables = load_tables('train')"
   ]
  },
  {
   "cell_type": "code",
   "execution_count": 8,
   "metadata": {},
   "outputs": [],
   "source": [
    "orders = tables['orders']\n",
    "train_orders = orders[orders['eval_set'] == 'train']"
   ]
  },
  {
   "cell_type": "code",
   "execution_count": 4,
   "metadata": {},
   "outputs": [
    {
     "output_type": "execute_result",
     "data": {
      "text/plain": [
       "3346083"
      ]
     },
     "metadata": {},
     "execution_count": 4
    }
   ],
   "source": [
    "len(orders)"
   ]
  },
  {
   "cell_type": "code",
   "execution_count": 21,
   "metadata": {},
   "outputs": [],
   "source": [
    "prior_order_items = tables['prior'].groupby('order_id')['product_id'].apply(lambda x : np.array(x))"
   ]
  },
  {
   "cell_type": "code",
   "execution_count": 22,
   "metadata": {},
   "outputs": [],
   "source": [
    "train_order_items = tables['train'].groupby('order_id')['product_id'].apply(lambda x : np.array(x))"
   ]
  },
  {
   "cell_type": "code",
   "execution_count": 17,
   "metadata": {},
   "outputs": [
    {
     "output_type": "execute_result",
     "data": {
      "text/plain": [
       "         last_order_id  user_id  order_number\n",
       "3421082         272231   206209            15\n",
       "3421081        2977660   206209            14\n",
       "3421067        1882108   206208            50\n",
       "3421066        1285346   206208            49\n",
       "3421017        1005822   206207            17\n",
       "...                ...      ...           ...\n",
       "36              521107        3            12\n",
       "25             1492625        2            16\n",
       "24              839880        2            15\n",
       "10             1187899        1            12\n",
       "9              2550362        1            11\n",
       "\n",
       "[412418 rows x 3 columns]"
      ],
      "text/html": "<div>\n<style scoped>\n    .dataframe tbody tr th:only-of-type {\n        vertical-align: middle;\n    }\n\n    .dataframe tbody tr th {\n        vertical-align: top;\n    }\n\n    .dataframe thead th {\n        text-align: right;\n    }\n</style>\n<table border=\"1\" class=\"dataframe\">\n  <thead>\n    <tr style=\"text-align: right;\">\n      <th></th>\n      <th>last_order_id</th>\n      <th>user_id</th>\n      <th>order_number</th>\n    </tr>\n  </thead>\n  <tbody>\n    <tr>\n      <th>3421082</th>\n      <td>272231</td>\n      <td>206209</td>\n      <td>15</td>\n    </tr>\n    <tr>\n      <th>3421081</th>\n      <td>2977660</td>\n      <td>206209</td>\n      <td>14</td>\n    </tr>\n    <tr>\n      <th>3421067</th>\n      <td>1882108</td>\n      <td>206208</td>\n      <td>50</td>\n    </tr>\n    <tr>\n      <th>3421066</th>\n      <td>1285346</td>\n      <td>206208</td>\n      <td>49</td>\n    </tr>\n    <tr>\n      <th>3421017</th>\n      <td>1005822</td>\n      <td>206207</td>\n      <td>17</td>\n    </tr>\n    <tr>\n      <th>...</th>\n      <td>...</td>\n      <td>...</td>\n      <td>...</td>\n    </tr>\n    <tr>\n      <th>36</th>\n      <td>521107</td>\n      <td>3</td>\n      <td>12</td>\n    </tr>\n    <tr>\n      <th>25</th>\n      <td>1492625</td>\n      <td>2</td>\n      <td>16</td>\n    </tr>\n    <tr>\n      <th>24</th>\n      <td>839880</td>\n      <td>2</td>\n      <td>15</td>\n    </tr>\n    <tr>\n      <th>10</th>\n      <td>1187899</td>\n      <td>1</td>\n      <td>12</td>\n    </tr>\n    <tr>\n      <th>9</th>\n      <td>2550362</td>\n      <td>1</td>\n      <td>11</td>\n    </tr>\n  </tbody>\n</table>\n<p>412418 rows × 3 columns</p>\n</div>"
     },
     "metadata": {},
     "execution_count": 17
    }
   ],
   "source": [
    "orders00 = orders.sort_values(['user_id', 'order_number'], ascending=False).groupby('user_id', as_index=False).head(2)\n",
    "orders0 = pd.DataFrame({'last_order_id': orders00['order_id'],\n",
    "                        'user_id': orders00['user_id'],\n",
    "                        'order_number': orders00['order_number'] + 1})\n",
    "orders0"
   ]
  },
  {
   "cell_type": "code",
   "execution_count": 18,
   "metadata": {},
   "outputs": [],
   "source": [
    "origin_data = train_orders.merge(orders0, on=['user_id', 'order_number'], how='left')"
   ]
  },
  {
   "cell_type": "code",
   "execution_count": 19,
   "metadata": {},
   "outputs": [
    {
     "output_type": "execute_result",
     "data": {
      "text/plain": [
       "        order_id  user_id eval_set  order_number  order_dow  \\\n",
       "0        1187899        1    train            11          4   \n",
       "1        1492625        2    train            15          1   \n",
       "2        2196797        5    train             5          0   \n",
       "3         525192        7    train            21          2   \n",
       "4         880375        8    train             4          1   \n",
       "...          ...      ...      ...           ...        ...   \n",
       "131204   2585586   206199    train            20          2   \n",
       "131205    943915   206200    train            24          6   \n",
       "131206   2371631   206203    train             6          4   \n",
       "131207   1716008   206205    train             4          1   \n",
       "131208    272231   206209    train            14          6   \n",
       "\n",
       "        order_hour_of_day  days_since_prior_order  last_order_id  \n",
       "0                       8                    14.0        2550362  \n",
       "1                      11                    30.0         839880  \n",
       "2                      11                     6.0         157374  \n",
       "3                      11                     6.0        2452257  \n",
       "4                      14                    10.0        2570360  \n",
       "...                   ...                     ...            ...  \n",
       "131204                 16                    30.0        1932632  \n",
       "131205                 19                     6.0        1909878  \n",
       "131206                 19                    30.0         133582  \n",
       "131207                 16                    10.0         414137  \n",
       "131208                 14                    30.0        2977660  \n",
       "\n",
       "[131209 rows x 8 columns]"
      ],
      "text/html": "<div>\n<style scoped>\n    .dataframe tbody tr th:only-of-type {\n        vertical-align: middle;\n    }\n\n    .dataframe tbody tr th {\n        vertical-align: top;\n    }\n\n    .dataframe thead th {\n        text-align: right;\n    }\n</style>\n<table border=\"1\" class=\"dataframe\">\n  <thead>\n    <tr style=\"text-align: right;\">\n      <th></th>\n      <th>order_id</th>\n      <th>user_id</th>\n      <th>eval_set</th>\n      <th>order_number</th>\n      <th>order_dow</th>\n      <th>order_hour_of_day</th>\n      <th>days_since_prior_order</th>\n      <th>last_order_id</th>\n    </tr>\n  </thead>\n  <tbody>\n    <tr>\n      <th>0</th>\n      <td>1187899</td>\n      <td>1</td>\n      <td>train</td>\n      <td>11</td>\n      <td>4</td>\n      <td>8</td>\n      <td>14.0</td>\n      <td>2550362</td>\n    </tr>\n    <tr>\n      <th>1</th>\n      <td>1492625</td>\n      <td>2</td>\n      <td>train</td>\n      <td>15</td>\n      <td>1</td>\n      <td>11</td>\n      <td>30.0</td>\n      <td>839880</td>\n    </tr>\n    <tr>\n      <th>2</th>\n      <td>2196797</td>\n      <td>5</td>\n      <td>train</td>\n      <td>5</td>\n      <td>0</td>\n      <td>11</td>\n      <td>6.0</td>\n      <td>157374</td>\n    </tr>\n    <tr>\n      <th>3</th>\n      <td>525192</td>\n      <td>7</td>\n      <td>train</td>\n      <td>21</td>\n      <td>2</td>\n      <td>11</td>\n      <td>6.0</td>\n      <td>2452257</td>\n    </tr>\n    <tr>\n      <th>4</th>\n      <td>880375</td>\n      <td>8</td>\n      <td>train</td>\n      <td>4</td>\n      <td>1</td>\n      <td>14</td>\n      <td>10.0</td>\n      <td>2570360</td>\n    </tr>\n    <tr>\n      <th>...</th>\n      <td>...</td>\n      <td>...</td>\n      <td>...</td>\n      <td>...</td>\n      <td>...</td>\n      <td>...</td>\n      <td>...</td>\n      <td>...</td>\n    </tr>\n    <tr>\n      <th>131204</th>\n      <td>2585586</td>\n      <td>206199</td>\n      <td>train</td>\n      <td>20</td>\n      <td>2</td>\n      <td>16</td>\n      <td>30.0</td>\n      <td>1932632</td>\n    </tr>\n    <tr>\n      <th>131205</th>\n      <td>943915</td>\n      <td>206200</td>\n      <td>train</td>\n      <td>24</td>\n      <td>6</td>\n      <td>19</td>\n      <td>6.0</td>\n      <td>1909878</td>\n    </tr>\n    <tr>\n      <th>131206</th>\n      <td>2371631</td>\n      <td>206203</td>\n      <td>train</td>\n      <td>6</td>\n      <td>4</td>\n      <td>19</td>\n      <td>30.0</td>\n      <td>133582</td>\n    </tr>\n    <tr>\n      <th>131207</th>\n      <td>1716008</td>\n      <td>206205</td>\n      <td>train</td>\n      <td>4</td>\n      <td>1</td>\n      <td>16</td>\n      <td>10.0</td>\n      <td>414137</td>\n    </tr>\n    <tr>\n      <th>131208</th>\n      <td>272231</td>\n      <td>206209</td>\n      <td>train</td>\n      <td>14</td>\n      <td>6</td>\n      <td>14</td>\n      <td>30.0</td>\n      <td>2977660</td>\n    </tr>\n  </tbody>\n</table>\n<p>131209 rows × 8 columns</p>\n</div>"
     },
     "metadata": {},
     "execution_count": 19
    }
   ],
   "source": [
    "origin_data"
   ]
  },
  {
   "cell_type": "code",
   "execution_count": 20,
   "metadata": {},
   "outputs": [
    {
     "output_type": "execute_result",
     "data": {
      "text/plain": [
       "131209"
      ]
     },
     "metadata": {},
     "execution_count": 20
    }
   ],
   "source": [
    "origin_data.merge('')"
   ]
  },
  {
   "cell_type": "code",
   "execution_count": null,
   "metadata": {},
   "outputs": [],
   "source": []
  }
 ]
}